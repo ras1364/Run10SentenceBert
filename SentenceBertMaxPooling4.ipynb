{
  "nbformat": 4,
  "nbformat_minor": 0,
  "metadata": {
    "colab": {
      "provenance": [],
      "mount_file_id": "1nS1Vxxy7yra-z2H436oHl7KMAxT_QAU6",
      "authorship_tag": "ABX9TyPmnu3nAX/KEPghSSpcQH4M",
      "include_colab_link": true
    },
    "kernelspec": {
      "name": "python3",
      "display_name": "Python 3"
    },
    "language_info": {
      "name": "python"
    }
  },
  "cells": [
    {
      "cell_type": "markdown",
      "metadata": {
        "id": "view-in-github",
        "colab_type": "text"
      },
      "source": [
        "<a href=\"https://colab.research.google.com/github/ras1364/Run10SentenceBert/blob/main/SentenceBertMaxPooling4.ipynb\" target=\"_parent\"><img src=\"https://colab.research.google.com/assets/colab-badge.svg\" alt=\"Open In Colab\"/></a>"
      ]
    },
    {
      "cell_type": "markdown",
      "source": [
        "**In this code, the sentences individually + Sentence-BERT encoder +  MaxPooling  + NLP network **"
      ],
      "metadata": {
        "id": "1aAOYqnQ80pE"
      }
    },
    {
      "cell_type": "code",
      "execution_count": null,
      "metadata": {
        "id": "1PdDVhRexpxq"
      },
      "outputs": [],
      "source": [
        "import pandas as pd\n",
        "import numpy as np"
      ]
    },
    {
      "cell_type": "code",
      "source": [
        "from google.colab import files\n",
        "uploaded = files.upload()"
      ],
      "metadata": {
        "id": "z14wlzOcp_Cq",
        "outputId": "95eaf291-4cc8-4fae-8ae3-253f8ac0a117",
        "colab": {
          "base_uri": "https://localhost:8080/",
          "height": 180
        }
      },
      "execution_count": null,
      "outputs": [
        {
          "output_type": "display_data",
          "data": {
            "text/plain": [
              "<IPython.core.display.HTML object>"
            ],
            "text/html": [
              "\n",
              "     <input type=\"file\" id=\"files-5dc7db7b-2a73-4bb1-a7d7-3473a4205b88\" name=\"files[]\" multiple disabled\n",
              "        style=\"border:none\" />\n",
              "     <output id=\"result-5dc7db7b-2a73-4bb1-a7d7-3473a4205b88\">\n",
              "      Upload widget is only available when the cell has been executed in the\n",
              "      current browser session. Please rerun this cell to enable.\n",
              "      </output>\n",
              "      <script>// Copyright 2017 Google LLC\n",
              "//\n",
              "// Licensed under the Apache License, Version 2.0 (the \"License\");\n",
              "// you may not use this file except in compliance with the License.\n",
              "// You may obtain a copy of the License at\n",
              "//\n",
              "//      http://www.apache.org/licenses/LICENSE-2.0\n",
              "//\n",
              "// Unless required by applicable law or agreed to in writing, software\n",
              "// distributed under the License is distributed on an \"AS IS\" BASIS,\n",
              "// WITHOUT WARRANTIES OR CONDITIONS OF ANY KIND, either express or implied.\n",
              "// See the License for the specific language governing permissions and\n",
              "// limitations under the License.\n",
              "\n",
              "/**\n",
              " * @fileoverview Helpers for google.colab Python module.\n",
              " */\n",
              "(function(scope) {\n",
              "function span(text, styleAttributes = {}) {\n",
              "  const element = document.createElement('span');\n",
              "  element.textContent = text;\n",
              "  for (const key of Object.keys(styleAttributes)) {\n",
              "    element.style[key] = styleAttributes[key];\n",
              "  }\n",
              "  return element;\n",
              "}\n",
              "\n",
              "// Max number of bytes which will be uploaded at a time.\n",
              "const MAX_PAYLOAD_SIZE = 100 * 1024;\n",
              "\n",
              "function _uploadFiles(inputId, outputId) {\n",
              "  const steps = uploadFilesStep(inputId, outputId);\n",
              "  const outputElement = document.getElementById(outputId);\n",
              "  // Cache steps on the outputElement to make it available for the next call\n",
              "  // to uploadFilesContinue from Python.\n",
              "  outputElement.steps = steps;\n",
              "\n",
              "  return _uploadFilesContinue(outputId);\n",
              "}\n",
              "\n",
              "// This is roughly an async generator (not supported in the browser yet),\n",
              "// where there are multiple asynchronous steps and the Python side is going\n",
              "// to poll for completion of each step.\n",
              "// This uses a Promise to block the python side on completion of each step,\n",
              "// then passes the result of the previous step as the input to the next step.\n",
              "function _uploadFilesContinue(outputId) {\n",
              "  const outputElement = document.getElementById(outputId);\n",
              "  const steps = outputElement.steps;\n",
              "\n",
              "  const next = steps.next(outputElement.lastPromiseValue);\n",
              "  return Promise.resolve(next.value.promise).then((value) => {\n",
              "    // Cache the last promise value to make it available to the next\n",
              "    // step of the generator.\n",
              "    outputElement.lastPromiseValue = value;\n",
              "    return next.value.response;\n",
              "  });\n",
              "}\n",
              "\n",
              "/**\n",
              " * Generator function which is called between each async step of the upload\n",
              " * process.\n",
              " * @param {string} inputId Element ID of the input file picker element.\n",
              " * @param {string} outputId Element ID of the output display.\n",
              " * @return {!Iterable<!Object>} Iterable of next steps.\n",
              " */\n",
              "function* uploadFilesStep(inputId, outputId) {\n",
              "  const inputElement = document.getElementById(inputId);\n",
              "  inputElement.disabled = false;\n",
              "\n",
              "  const outputElement = document.getElementById(outputId);\n",
              "  outputElement.innerHTML = '';\n",
              "\n",
              "  const pickedPromise = new Promise((resolve) => {\n",
              "    inputElement.addEventListener('change', (e) => {\n",
              "      resolve(e.target.files);\n",
              "    });\n",
              "  });\n",
              "\n",
              "  const cancel = document.createElement('button');\n",
              "  inputElement.parentElement.appendChild(cancel);\n",
              "  cancel.textContent = 'Cancel upload';\n",
              "  const cancelPromise = new Promise((resolve) => {\n",
              "    cancel.onclick = () => {\n",
              "      resolve(null);\n",
              "    };\n",
              "  });\n",
              "\n",
              "  // Wait for the user to pick the files.\n",
              "  const files = yield {\n",
              "    promise: Promise.race([pickedPromise, cancelPromise]),\n",
              "    response: {\n",
              "      action: 'starting',\n",
              "    }\n",
              "  };\n",
              "\n",
              "  cancel.remove();\n",
              "\n",
              "  // Disable the input element since further picks are not allowed.\n",
              "  inputElement.disabled = true;\n",
              "\n",
              "  if (!files) {\n",
              "    return {\n",
              "      response: {\n",
              "        action: 'complete',\n",
              "      }\n",
              "    };\n",
              "  }\n",
              "\n",
              "  for (const file of files) {\n",
              "    const li = document.createElement('li');\n",
              "    li.append(span(file.name, {fontWeight: 'bold'}));\n",
              "    li.append(span(\n",
              "        `(${file.type || 'n/a'}) - ${file.size} bytes, ` +\n",
              "        `last modified: ${\n",
              "            file.lastModifiedDate ? file.lastModifiedDate.toLocaleDateString() :\n",
              "                                    'n/a'} - `));\n",
              "    const percent = span('0% done');\n",
              "    li.appendChild(percent);\n",
              "\n",
              "    outputElement.appendChild(li);\n",
              "\n",
              "    const fileDataPromise = new Promise((resolve) => {\n",
              "      const reader = new FileReader();\n",
              "      reader.onload = (e) => {\n",
              "        resolve(e.target.result);\n",
              "      };\n",
              "      reader.readAsArrayBuffer(file);\n",
              "    });\n",
              "    // Wait for the data to be ready.\n",
              "    let fileData = yield {\n",
              "      promise: fileDataPromise,\n",
              "      response: {\n",
              "        action: 'continue',\n",
              "      }\n",
              "    };\n",
              "\n",
              "    // Use a chunked sending to avoid message size limits. See b/62115660.\n",
              "    let position = 0;\n",
              "    do {\n",
              "      const length = Math.min(fileData.byteLength - position, MAX_PAYLOAD_SIZE);\n",
              "      const chunk = new Uint8Array(fileData, position, length);\n",
              "      position += length;\n",
              "\n",
              "      const base64 = btoa(String.fromCharCode.apply(null, chunk));\n",
              "      yield {\n",
              "        response: {\n",
              "          action: 'append',\n",
              "          file: file.name,\n",
              "          data: base64,\n",
              "        },\n",
              "      };\n",
              "\n",
              "      let percentDone = fileData.byteLength === 0 ?\n",
              "          100 :\n",
              "          Math.round((position / fileData.byteLength) * 100);\n",
              "      percent.textContent = `${percentDone}% done`;\n",
              "\n",
              "    } while (position < fileData.byteLength);\n",
              "  }\n",
              "\n",
              "  // All done.\n",
              "  yield {\n",
              "    response: {\n",
              "      action: 'complete',\n",
              "    }\n",
              "  };\n",
              "}\n",
              "\n",
              "scope.google = scope.google || {};\n",
              "scope.google.colab = scope.google.colab || {};\n",
              "scope.google.colab._files = {\n",
              "  _uploadFiles,\n",
              "  _uploadFilesContinue,\n",
              "};\n",
              "})(self);\n",
              "</script> "
            ]
          },
          "metadata": {}
        },
        {
          "output_type": "stream",
          "name": "stdout",
          "text": [
            "Saving X_test1.csv to X_test1.csv\n",
            "Saving X_train1.csv to X_train1.csv\n",
            "Saving y_test1.csv to y_test1.csv\n",
            "Saving y_train1.csv to y_train1.csv\n"
          ]
        }
      ]
    },
    {
      "cell_type": "code",
      "source": [
        "num = \"1\"\n",
        "X_test = pd.read_csv(\"/content/X_test\"+num+\".csv\")\n",
        "X_train = pd.read_csv(\"/content/X_train\"+num+\".csv\")\n",
        "y_test = pd.read_csv(\"/content/y_test\"+num+\".csv\")\n",
        "y_train = pd.read_csv(\"/content/y_train\"+num+\".csv\")"
      ],
      "metadata": {
        "id": "L3jbVEROyLEC"
      },
      "execution_count": null,
      "outputs": []
    },
    {
      "cell_type": "code",
      "source": [
        "max_length = 100\n",
        "max_sentence = 50\n",
        "# for x in range(0,len(X_train)):\n",
        "#   line = X_train.loc[x].at[\"text\"]\n",
        "#   if max_length < len(line.split()) :\n",
        "#     max_length = len(line.split())\n",
        "\n",
        "print(max_length)\n"
      ],
      "metadata": {
        "colab": {
          "base_uri": "https://localhost:8080/"
        },
        "id": "E_IU66B2rG_e",
        "outputId": "21655a43-a2e4-4869-dc70-8906b2dde8f6"
      },
      "execution_count": null,
      "outputs": [
        {
          "output_type": "stream",
          "name": "stdout",
          "text": [
            "100\n"
          ]
        }
      ]
    },
    {
      "cell_type": "code",
      "source": [
        "from gensim.parsing.preprocessing import remove_stopwords\n",
        "\n",
        "def preprocess(text):\n",
        "  return remove_stopwords(text)\n",
        "\n",
        "X_train[\"stemmed_text_data\"] = X_train[\"text\"].map(preprocess)\n",
        "X_test[\"stemmed_text_data\"] = X_test[\"text\"].map(preprocess)"
      ],
      "metadata": {
        "id": "9wpXnXU0q9sx"
      },
      "execution_count": null,
      "outputs": []
    },
    {
      "cell_type": "code",
      "source": [
        "!pip install sentence-transformers\n",
        "from sentence_transformers import SentenceTransformer\n",
        "sbert_model = SentenceTransformer('all-MiniLM-L6-v2')\n"
      ],
      "metadata": {
        "id": "aqJxHbdjkiXL"
      },
      "execution_count": null,
      "outputs": []
    },
    {
      "cell_type": "code",
      "source": [
        "def percent_complete(step, total_steps, bar_width=60, title=\"\", print_perc=True):\n",
        "    import sys\n",
        "\n",
        "    # UTF-8 left blocks: 1, 1/8, 1/4, 3/8, 1/2, 5/8, 3/4, 7/8\n",
        "    utf_8s = [\"█\", \"▏\", \"▎\", \"▍\", \"▌\", \"▋\", \"▊\", \"█\"]\n",
        "    perc = 100 * float(step) / float(total_steps)\n",
        "    max_ticks = bar_width * 8\n",
        "    num_ticks = int(round(perc / 100 * max_ticks))\n",
        "    full_ticks = num_ticks / 8      # Number of full blocks\n",
        "    part_ticks = num_ticks % 8      # Size of partial block (array index)\n",
        "\n",
        "    disp = bar = \"\"                 # Blank out variables\n",
        "    bar += utf_8s[0] * int(full_ticks)  # Add full blocks into Progress Bar\n",
        "\n",
        "    # If part_ticks is zero, then no partial block, else append part char\n",
        "    if part_ticks > 0:\n",
        "        bar += utf_8s[part_ticks]\n",
        "\n",
        "    # Pad Progress Bar with fill character\n",
        "    bar += \"▒\" * int((max_ticks/8 - float(num_ticks)/8.0))\n",
        "\n",
        "    if len(title) > 0:\n",
        "        disp = title + \": \"         # Optional title to progress display\n",
        "\n",
        "    # Print progress bar in green: https://stackoverflow.com/a/21786287/6929343\n",
        "    disp += \"\\x1b[0;32m\"            # Color Green\n",
        "    disp += bar                     # Progress bar to progress display\n",
        "    disp += \"\\x1b[0m\"               # Color Reset\n",
        "    if print_perc:\n",
        "        # If requested, append percentage complete to progress display\n",
        "        if perc > 100.0:\n",
        "            perc = 100.0            # Fix \"100.04 %\" rounding error\n",
        "        disp += \" {:6.2f}\".format(perc) + \" %\"\n",
        "\n",
        "    # Output to terminal repetitively over the same line using '\\r'.\n",
        "    sys.stdout.write(\"\\r\" + disp)\n",
        "    sys.stdout.flush()"
      ],
      "metadata": {
        "id": "yGuMut23CGxQ"
      },
      "execution_count": null,
      "outputs": []
    },
    {
      "cell_type": "code",
      "source": [
        "import nltk\n",
        "nltk.download('punkt')\n",
        "from nltk.tokenize import sent_tokenize\n",
        "import tensorflow as tf\n",
        "\n",
        "def encode(text, maxlen,maxSentence,mtitle):\n",
        "  embeddings=[]\n",
        "  counter = 1\n",
        "  for row in text:\n",
        "    embedding =[]\n",
        "    counter+=1\n",
        "    sentecesCoutner = 0\n",
        "    percent_complete(counter, len(text), title=mtitle)\n",
        "    for sent in sent_tokenize(row):\n",
        "      sentecesCoutner+=1\n",
        "      if(sentecesCoutner<maxSentence):\n",
        "        embedding.append(sbert_model.encode(sentences=sent ,convert_to_numpy=True ))\n",
        "\n",
        "    loop = 50 - len(embedding)\n",
        "    for x in range(loop):\n",
        "      embedding.append(np.zeros([384],dtype=float))\n",
        "    embeddings.append(embedding)\n",
        "\n",
        "  return embeddings"
      ],
      "metadata": {
        "colab": {
          "base_uri": "https://localhost:8080/"
        },
        "id": "mTE2HlvRCPrk",
        "outputId": "757332e1-d056-4702-d3e6-63ace11cd0c0"
      },
      "execution_count": null,
      "outputs": [
        {
          "output_type": "stream",
          "name": "stderr",
          "text": [
            "[nltk_data] Downloading package punkt to /root/nltk_data...\n",
            "[nltk_data]   Package punkt is already up-to-date!\n"
          ]
        }
      ]
    },
    {
      "cell_type": "code",
      "source": [
        "import time"
      ],
      "metadata": {
        "id": "YXpzKTimuudm"
      },
      "execution_count": null,
      "outputs": []
    },
    {
      "cell_type": "code",
      "source": [
        "startedTime = time.time()\n",
        "X_train_encoded = encode(X_train.stemmed_text_data,max_length,max_sentence,\"X_train_embedding\")\n",
        "endTime= time.time()\n",
        "print(\"\\nElapsed Time : \", endTime - startedTime, \"sec or \",(endTime - startedTime)/60,\"min\")"
      ],
      "metadata": {
        "id": "kv10bLr4kbfo",
        "outputId": "2823470c-3335-4699-aa8d-90eed648adee",
        "colab": {
          "base_uri": "https://localhost:8080/"
        }
      },
      "execution_count": null,
      "outputs": [
        {
          "output_type": "stream",
          "name": "stdout",
          "text": [
            "X_train_embedding: \u001b[0;32m████████████████████████████████████████████████████████████\u001b[0m 100.00 %\n",
            "Elapsed Time :  256.1089243888855 sec or  4.268482073148092 min\n"
          ]
        }
      ]
    },
    {
      "cell_type": "code",
      "source": [
        "startedTime = time.time()\n",
        "X_test_encoded = encode(X_test.stemmed_text_data,max_length,max_sentence,\"X_test_embedding\")\n",
        "endTime= time.time()\n",
        "print(\"\\nElapsed Time : \", endTime - startedTime, \"sec or \",(endTime - startedTime)/60,\"min\")"
      ],
      "metadata": {
        "colab": {
          "base_uri": "https://localhost:8080/"
        },
        "id": "xtF6RA38D2HS",
        "outputId": "03a69c5e-e6d8-4b34-eb92-1a0855b5c915"
      },
      "execution_count": null,
      "outputs": [
        {
          "output_type": "stream",
          "name": "stdout",
          "text": [
            "X_test_embedding: \u001b[0;32m████████████████████████████████████████████████████████████▎\u001b[0m 100.00 %\n",
            "Elapsed Time :  59.612637758255005 sec or  0.9935439626375834 min\n"
          ]
        }
      ]
    },
    {
      "cell_type": "code",
      "source": [
        "X_train_embedding_squeezed = np.squeeze(X_train_encoded)\n",
        "X_test_embedding_squeezed = np.squeeze(X_test_encoded)"
      ],
      "metadata": {
        "id": "LP5KNL_RSb9e"
      },
      "execution_count": null,
      "outputs": []
    },
    {
      "cell_type": "code",
      "source": [
        "print(\"X_train.shape = \" , np.shape(X_train_embedding_squeezed), \" y_train.shape = \", y_train[\"deceptive\"].shape)\n",
        "print(\"X_test.shape = \" , np.shape(X_test_embedding_squeezed), \" y_test.shape = \", y_test[\"deceptive\"].shape)"
      ],
      "metadata": {
        "id": "Zp1RQ7EEoK2p",
        "outputId": "8ee52616-5bf9-4d4f-c489-5475a24381fc",
        "colab": {
          "base_uri": "https://localhost:8080/"
        }
      },
      "execution_count": null,
      "outputs": [
        {
          "output_type": "stream",
          "name": "stdout",
          "text": [
            "X_train.shape =  (1280, 50, 384)  y_train.shape =  (1280,)\n",
            "X_test.shape =  (320, 50, 384)  y_test.shape =  (320,)\n"
          ]
        }
      ]
    },
    {
      "cell_type": "code",
      "source": [
        "from keras.models import Sequential\n",
        "from keras.layers import Dense,MaxPooling1D\n",
        "import keras\n",
        "\n",
        "# define and fit the final model\n",
        "METRICS = [\n",
        "      tf.keras.metrics.BinaryAccuracy(name='accuracy'),\n",
        "      tf.keras.metrics.Precision(name='precision'),\n",
        "      tf.keras.metrics.Recall(name='recall')\n",
        "   ]\n",
        "model = Sequential()\n",
        "model.add(keras.Input(shape=(50,384,)))\n",
        "model.add(MaxPooling1D(pool_size=(50)))\n",
        "model.add(Dense(64, activation='relu'))\n",
        "model.add(Dense(32, activation='relu'))\n",
        "model.add(Dense(1, activation='sigmoid'))\n",
        "model.compile(loss='binary_crossentropy', optimizer='adam', metrics=METRICS)\n"
      ],
      "metadata": {
        "id": "D3PXEB9CP4v9"
      },
      "execution_count": null,
      "outputs": []
    },
    {
      "cell_type": "code",
      "source": [
        "model.summary()"
      ],
      "metadata": {
        "colab": {
          "base_uri": "https://localhost:8080/"
        },
        "id": "9BbD9x-ZRvad",
        "outputId": "4af58311-617b-4f14-ac08-ee50442e2173"
      },
      "execution_count": null,
      "outputs": [
        {
          "output_type": "stream",
          "name": "stdout",
          "text": [
            "Model: \"sequential\"\n",
            "_________________________________________________________________\n",
            " Layer (type)                Output Shape              Param #   \n",
            "=================================================================\n",
            " max_pooling1d (MaxPooling1D  (None, 1, 384)           0         \n",
            " )                                                               \n",
            "                                                                 \n",
            " dense (Dense)               (None, 1, 64)             24640     \n",
            "                                                                 \n",
            " dense_1 (Dense)             (None, 1, 32)             2080      \n",
            "                                                                 \n",
            " dense_2 (Dense)             (None, 1, 1)              33        \n",
            "                                                                 \n",
            "=================================================================\n",
            "Total params: 26,753\n",
            "Trainable params: 26,753\n",
            "Non-trainable params: 0\n",
            "_________________________________________________________________\n"
          ]
        }
      ]
    },
    {
      "cell_type": "code",
      "source": [
        "startedTime = time.time()\n",
        "model.fit(X_train_embedding_squeezed,y_train.deceptive, epochs=50, batch_size=64, verbose=1)\n",
        "endTime= time.time()\n",
        "print(\"\\nElapsed Time : \", endTime - startedTime, \"sec or \",(endTime - startedTime)/60,\"min\")"
      ],
      "metadata": {
        "colab": {
          "base_uri": "https://localhost:8080/"
        },
        "id": "BHqcX9VuR-TC",
        "outputId": "a4c57403-da3e-4f3e-fcac-7b30a96f8c27"
      },
      "execution_count": null,
      "outputs": [
        {
          "output_type": "stream",
          "name": "stdout",
          "text": [
            "Epoch 1/50\n",
            "20/20 [==============================] - 2s 11ms/step - loss: 0.6915 - accuracy: 0.5234 - precision: 0.5221 - recall: 0.5531\n",
            "Epoch 2/50\n",
            "20/20 [==============================] - 0s 8ms/step - loss: 0.6820 - accuracy: 0.5781 - precision: 0.5542 - recall: 0.7984\n",
            "Epoch 3/50\n",
            "20/20 [==============================] - 0s 8ms/step - loss: 0.6723 - accuracy: 0.6070 - precision: 0.6065 - recall: 0.6094\n",
            "Epoch 4/50\n",
            "20/20 [==============================] - 0s 7ms/step - loss: 0.6557 - accuracy: 0.6328 - precision: 0.6562 - recall: 0.5578\n",
            "Epoch 5/50\n",
            "20/20 [==============================] - 0s 8ms/step - loss: 0.6262 - accuracy: 0.7023 - precision: 0.6781 - recall: 0.7703\n",
            "Epoch 6/50\n",
            "20/20 [==============================] - 0s 7ms/step - loss: 0.5964 - accuracy: 0.7164 - precision: 0.7282 - recall: 0.6906\n",
            "Epoch 7/50\n",
            "20/20 [==============================] - 0s 6ms/step - loss: 0.5602 - accuracy: 0.7414 - precision: 0.7623 - recall: 0.7016\n",
            "Epoch 8/50\n",
            "20/20 [==============================] - 0s 7ms/step - loss: 0.5224 - accuracy: 0.7539 - precision: 0.7543 - recall: 0.7531\n",
            "Epoch 9/50\n",
            "20/20 [==============================] - 0s 8ms/step - loss: 0.4895 - accuracy: 0.7883 - precision: 0.8030 - recall: 0.7641\n",
            "Epoch 10/50\n",
            "20/20 [==============================] - 0s 7ms/step - loss: 0.4761 - accuracy: 0.7695 - precision: 0.7769 - recall: 0.7563\n",
            "Epoch 11/50\n",
            "20/20 [==============================] - 0s 6ms/step - loss: 0.4683 - accuracy: 0.7656 - precision: 0.7640 - recall: 0.7688\n",
            "Epoch 12/50\n",
            "20/20 [==============================] - 0s 7ms/step - loss: 0.4295 - accuracy: 0.8133 - precision: 0.8229 - recall: 0.7984\n",
            "Epoch 13/50\n",
            "20/20 [==============================] - 0s 7ms/step - loss: 0.4206 - accuracy: 0.8141 - precision: 0.8201 - recall: 0.8047\n",
            "Epoch 14/50\n",
            "20/20 [==============================] - 0s 7ms/step - loss: 0.4233 - accuracy: 0.7984 - precision: 0.8051 - recall: 0.7875\n",
            "Epoch 15/50\n",
            "20/20 [==============================] - 0s 9ms/step - loss: 0.4104 - accuracy: 0.8164 - precision: 0.8159 - recall: 0.8172\n",
            "Epoch 16/50\n",
            "20/20 [==============================] - 0s 5ms/step - loss: 0.4162 - accuracy: 0.8047 - precision: 0.8207 - recall: 0.7797\n",
            "Epoch 17/50\n",
            "20/20 [==============================] - 0s 5ms/step - loss: 0.3887 - accuracy: 0.8273 - precision: 0.8363 - recall: 0.8141\n",
            "Epoch 18/50\n",
            "20/20 [==============================] - 0s 4ms/step - loss: 0.3869 - accuracy: 0.8258 - precision: 0.8263 - recall: 0.8250\n",
            "Epoch 19/50\n",
            "20/20 [==============================] - 0s 5ms/step - loss: 0.3789 - accuracy: 0.8328 - precision: 0.8480 - recall: 0.8109\n",
            "Epoch 20/50\n",
            "20/20 [==============================] - 0s 5ms/step - loss: 0.3724 - accuracy: 0.8391 - precision: 0.8401 - recall: 0.8375\n",
            "Epoch 21/50\n",
            "20/20 [==============================] - 0s 4ms/step - loss: 0.3872 - accuracy: 0.8258 - precision: 0.8336 - recall: 0.8141\n",
            "Epoch 22/50\n",
            "20/20 [==============================] - 0s 4ms/step - loss: 0.3570 - accuracy: 0.8422 - precision: 0.8443 - recall: 0.8391\n",
            "Epoch 23/50\n",
            "20/20 [==============================] - 0s 5ms/step - loss: 0.3654 - accuracy: 0.8383 - precision: 0.8486 - recall: 0.8234\n",
            "Epoch 24/50\n",
            "20/20 [==============================] - 0s 4ms/step - loss: 0.3659 - accuracy: 0.8367 - precision: 0.8415 - recall: 0.8297\n",
            "Epoch 25/50\n",
            "20/20 [==============================] - 0s 5ms/step - loss: 0.3794 - accuracy: 0.8320 - precision: 0.8389 - recall: 0.8219\n",
            "Epoch 26/50\n",
            "20/20 [==============================] - 0s 5ms/step - loss: 0.3590 - accuracy: 0.8367 - precision: 0.8437 - recall: 0.8266\n",
            "Epoch 27/50\n",
            "20/20 [==============================] - 0s 5ms/step - loss: 0.3582 - accuracy: 0.8359 - precision: 0.8359 - recall: 0.8359\n",
            "Epoch 28/50\n",
            "20/20 [==============================] - 0s 4ms/step - loss: 0.3566 - accuracy: 0.8383 - precision: 0.8442 - recall: 0.8297\n",
            "Epoch 29/50\n",
            "20/20 [==============================] - 0s 4ms/step - loss: 0.3314 - accuracy: 0.8617 - precision: 0.8692 - recall: 0.8516\n",
            "Epoch 30/50\n",
            "20/20 [==============================] - 0s 4ms/step - loss: 0.3405 - accuracy: 0.8500 - precision: 0.8457 - recall: 0.8562\n",
            "Epoch 31/50\n",
            "20/20 [==============================] - 0s 5ms/step - loss: 0.3297 - accuracy: 0.8578 - precision: 0.8612 - recall: 0.8531\n",
            "Epoch 32/50\n",
            "20/20 [==============================] - 0s 5ms/step - loss: 0.3238 - accuracy: 0.8602 - precision: 0.8653 - recall: 0.8531\n",
            "Epoch 33/50\n",
            "20/20 [==============================] - 0s 5ms/step - loss: 0.3231 - accuracy: 0.8602 - precision: 0.8607 - recall: 0.8594\n",
            "Epoch 34/50\n",
            "20/20 [==============================] - 0s 4ms/step - loss: 0.3172 - accuracy: 0.8641 - precision: 0.8687 - recall: 0.8578\n",
            "Epoch 35/50\n",
            "20/20 [==============================] - 0s 5ms/step - loss: 0.3105 - accuracy: 0.8664 - precision: 0.8788 - recall: 0.8500\n",
            "Epoch 36/50\n",
            "20/20 [==============================] - 0s 5ms/step - loss: 0.3026 - accuracy: 0.8734 - precision: 0.8746 - recall: 0.8719\n",
            "Epoch 37/50\n",
            "20/20 [==============================] - 0s 4ms/step - loss: 0.2972 - accuracy: 0.8719 - precision: 0.8778 - recall: 0.8641\n",
            "Epoch 38/50\n",
            "20/20 [==============================] - 0s 5ms/step - loss: 0.3087 - accuracy: 0.8664 - precision: 0.8788 - recall: 0.8500\n",
            "Epoch 39/50\n",
            "20/20 [==============================] - 0s 4ms/step - loss: 0.3489 - accuracy: 0.8430 - precision: 0.8424 - recall: 0.8438\n",
            "Epoch 40/50\n",
            "20/20 [==============================] - 0s 5ms/step - loss: 0.3182 - accuracy: 0.8617 - precision: 0.8600 - recall: 0.8641\n",
            "Epoch 41/50\n",
            "20/20 [==============================] - 0s 5ms/step - loss: 0.2921 - accuracy: 0.8719 - precision: 0.8684 - recall: 0.8766\n",
            "Epoch 42/50\n",
            "20/20 [==============================] - 0s 5ms/step - loss: 0.3076 - accuracy: 0.8625 - precision: 0.8718 - recall: 0.8500\n",
            "Epoch 43/50\n",
            "20/20 [==============================] - 0s 5ms/step - loss: 0.2823 - accuracy: 0.8813 - precision: 0.8873 - recall: 0.8734\n",
            "Epoch 44/50\n",
            "20/20 [==============================] - 0s 4ms/step - loss: 0.2861 - accuracy: 0.8781 - precision: 0.8916 - recall: 0.8609\n",
            "Epoch 45/50\n",
            "20/20 [==============================] - 0s 6ms/step - loss: 0.2774 - accuracy: 0.8797 - precision: 0.8785 - recall: 0.8813\n",
            "Epoch 46/50\n",
            "20/20 [==============================] - 0s 5ms/step - loss: 0.2866 - accuracy: 0.8719 - precision: 0.8719 - recall: 0.8719\n",
            "Epoch 47/50\n",
            "20/20 [==============================] - 0s 5ms/step - loss: 0.2780 - accuracy: 0.8875 - precision: 0.8804 - recall: 0.8969\n",
            "Epoch 48/50\n",
            "20/20 [==============================] - 0s 5ms/step - loss: 0.2949 - accuracy: 0.8742 - precision: 0.8772 - recall: 0.8703\n",
            "Epoch 49/50\n",
            "20/20 [==============================] - 0s 5ms/step - loss: 0.2629 - accuracy: 0.8891 - precision: 0.8927 - recall: 0.8844\n",
            "Epoch 50/50\n",
            "20/20 [==============================] - 0s 5ms/step - loss: 0.2717 - accuracy: 0.8836 - precision: 0.8794 - recall: 0.8891\n",
            "\n",
            "Elapsed Time :  12.727309226989746 sec or  0.2121218204498291 min\n"
          ]
        }
      ]
    },
    {
      "cell_type": "code",
      "source": [
        "model.evaluate(X_test_embedding_squeezed, y_test.deceptive)"
      ],
      "metadata": {
        "colab": {
          "base_uri": "https://localhost:8080/"
        },
        "id": "nRAP55LjUjKu",
        "outputId": "0e72936d-459e-49f9-c6f8-98188442312d"
      },
      "execution_count": null,
      "outputs": [
        {
          "output_type": "stream",
          "name": "stdout",
          "text": [
            "10/10 [==============================] - 0s 3ms/step - loss: 0.6252 - accuracy: 0.7312 - precision: 0.7342 - recall: 0.7250\n"
          ]
        },
        {
          "output_type": "execute_result",
          "data": {
            "text/plain": [
              "[0.6252180337905884, 0.731249988079071, 0.7341772317886353, 0.7250000238418579]"
            ]
          },
          "metadata": {},
          "execution_count": 32
        }
      ]
    },
    {
      "cell_type": "code",
      "source": [
        "y_predicted = model.predict(X_test_embedding_squeezed)\n",
        "y_predicted = y_predicted.flatten()"
      ],
      "metadata": {
        "colab": {
          "base_uri": "https://localhost:8080/"
        },
        "id": "MQ7APJ_MUwce",
        "outputId": "d160377e-d805-461d-8764-0159ad957973"
      },
      "execution_count": null,
      "outputs": [
        {
          "output_type": "stream",
          "name": "stdout",
          "text": [
            "10/10 [==============================] - 0s 4ms/step\n"
          ]
        }
      ]
    },
    {
      "cell_type": "code",
      "source": [
        "y_predicted = np.where(y_predicted > 0.5, 1, 0)\n",
        "y_predicted"
      ],
      "metadata": {
        "colab": {
          "base_uri": "https://localhost:8080/"
        },
        "id": "3y4qaA_oU2HP",
        "outputId": "d822d1ac-ff12-4a49-e671-f578a2a46326"
      },
      "execution_count": null,
      "outputs": [
        {
          "output_type": "execute_result",
          "data": {
            "text/plain": [
              "array([1, 1, 0, 0, 0, 0, 1, 1, 1, 1, 1, 0, 1, 1, 0, 1, 1, 0, 1, 1, 0, 0,\n",
              "       0, 1, 0, 0, 1, 0, 1, 1, 0, 1, 0, 1, 1, 1, 0, 1, 0, 0, 0, 1, 1, 1,\n",
              "       0, 0, 0, 0, 0, 0, 0, 1, 1, 0, 0, 1, 1, 0, 1, 0, 1, 1, 1, 1, 0, 1,\n",
              "       1, 1, 1, 1, 1, 1, 0, 0, 1, 1, 0, 0, 1, 1, 0, 1, 0, 0, 1, 1, 1, 0,\n",
              "       0, 0, 0, 1, 1, 1, 1, 0, 0, 1, 0, 0, 0, 1, 1, 1, 1, 0, 1, 0, 0, 0,\n",
              "       1, 0, 1, 0, 0, 1, 1, 0, 1, 1, 1, 0, 0, 1, 1, 1, 1, 0, 1, 0, 1, 1,\n",
              "       1, 0, 0, 1, 1, 1, 1, 0, 0, 0, 0, 1, 0, 1, 0, 1, 0, 1, 0, 1, 0, 0,\n",
              "       1, 1, 0, 1, 0, 0, 0, 0, 1, 0, 1, 1, 0, 1, 1, 1, 0, 0, 0, 1, 1, 0,\n",
              "       0, 1, 1, 0, 1, 0, 0, 1, 0, 0, 0, 0, 0, 0, 1, 1, 0, 1, 0, 0, 0, 0,\n",
              "       0, 0, 0, 0, 1, 1, 1, 0, 0, 0, 0, 1, 0, 0, 0, 1, 0, 1, 0, 1, 1, 1,\n",
              "       0, 0, 1, 0, 1, 1, 0, 1, 1, 0, 1, 0, 0, 1, 0, 0, 0, 1, 0, 1, 0, 0,\n",
              "       0, 1, 1, 0, 0, 0, 0, 0, 0, 1, 0, 1, 1, 0, 1, 0, 1, 1, 0, 0, 0, 0,\n",
              "       1, 1, 0, 0, 0, 1, 1, 1, 0, 0, 0, 0, 1, 0, 1, 1, 1, 1, 0, 1, 0, 1,\n",
              "       0, 0, 0, 1, 0, 0, 1, 1, 1, 1, 1, 1, 0, 0, 0, 0, 1, 1, 0, 1, 1, 0,\n",
              "       1, 1, 1, 1, 0, 1, 1, 0, 1, 1, 0, 0])"
            ]
          },
          "metadata": {},
          "execution_count": 34
        }
      ]
    },
    {
      "cell_type": "code",
      "source": [
        "from sklearn.metrics import confusion_matrix, classification_report\n",
        "\n",
        "cm = confusion_matrix(y_test.deceptive, y_predicted)\n",
        "cm"
      ],
      "metadata": {
        "colab": {
          "base_uri": "https://localhost:8080/"
        },
        "id": "toywSOZpVAlv",
        "outputId": "01c18d8f-04d8-441b-9ed9-64593a2ba603"
      },
      "execution_count": null,
      "outputs": [
        {
          "output_type": "execute_result",
          "data": {
            "text/plain": [
              "array([[118,  42],\n",
              "       [ 44, 116]])"
            ]
          },
          "metadata": {},
          "execution_count": 35
        }
      ]
    },
    {
      "cell_type": "code",
      "source": [
        "from matplotlib import pyplot as plt\n",
        "import seaborn as sn\n",
        "sn.heatmap(cm, annot=True, fmt='d')\n",
        "plt.xlabel('Predicted')\n",
        "plt.ylabel('Truth')"
      ],
      "metadata": {
        "colab": {
          "base_uri": "https://localhost:8080/",
          "height": 467
        },
        "id": "e16_5gXsVE9C",
        "outputId": "7d63536e-2138-40c9-f146-21ef5b01045e"
      },
      "execution_count": null,
      "outputs": [
        {
          "output_type": "execute_result",
          "data": {
            "text/plain": [
              "Text(50.722222222222214, 0.5, 'Truth')"
            ]
          },
          "metadata": {},
          "execution_count": 36
        },
        {
          "output_type": "display_data",
          "data": {
            "text/plain": [
              "<Figure size 640x480 with 2 Axes>"
            ],
            "image/png": "[encoded data removed]"
          },
          "metadata": {}
        }
      ]
    },
    {
      "cell_type": "code",
      "source": [
        "print(classification_report(y_test.deceptive, y_predicted))"
      ],
      "metadata": {
        "colab": {
          "base_uri": "https://localhost:8080/"
        },
        "id": "rmSmwdn4VKPs",
        "outputId": "5d623e2f-09da-4c05-855e-0f7973c1e6d2"
      },
      "execution_count": null,
      "outputs": [
        {
          "output_type": "stream",
          "name": "stdout",
          "text": [
            "              precision    recall  f1-score   support\n",
            "\n",
            "           0       0.73      0.74      0.73       160\n",
            "           1       0.73      0.72      0.73       160\n",
            "\n",
            "    accuracy                           0.73       320\n",
            "   macro avg       0.73      0.73      0.73       320\n",
            "weighted avg       0.73      0.73      0.73       320\n",
            "\n"
          ]
        }
      ]
    }
  ]
}