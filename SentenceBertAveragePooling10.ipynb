{
  "nbformat": 4,
  "nbformat_minor": 0,
  "metadata": {
    "colab": {
      "provenance": [],
      "mount_file_id": "1nS1Vxxy7yra-z2H436oHl7KMAxT_QAU6",
      "authorship_tag": "ABX9TyN40mINQSlR2t8T3QwuTG1L",
      "include_colab_link": true
    },
    "kernelspec": {
      "name": "python3",
      "display_name": "Python 3"
    },
    "language_info": {
      "name": "python"
    },
    "widgets": {
      "application/vnd.jupyter.widget-state+json": {}
    }
  },
  "cells": [
    {
      "cell_type": "markdown",
      "metadata": {
        "id": "view-in-github",
        "colab_type": "text"
      },
      "source": [
        "<a href=\"https://colab.research.google.com/github/ras1364/Run10SentenceBert/blob/main/SentenceBertAveragePooling10.ipynb\" target=\"_parent\"><img src=\"https://colab.research.google.com/assets/colab-badge.svg\" alt=\"Open In Colab\"/></a>"
      ]
    },
    {
      "cell_type": "markdown",
      "source": [
        "**In this code, the sentences individually + Sentence-BERT encoder +  AveragePooling  + NLP network **"
      ],
      "metadata": {
        "id": "1aAOYqnQ80pE"
      }
    },
    {
      "cell_type": "code",
      "execution_count": 1,
      "metadata": {
        "id": "1PdDVhRexpxq"
      },
      "outputs": [],
      "source": [
        "import pandas as pd\n",
        "import numpy as np"
      ]
    },
    {
      "cell_type": "code",
      "source": [
        "from google.colab import files\n",
        "uploaded = files.upload()"
      ],
      "metadata": {
        "id": "z14wlzOcp_Cq",
        "outputId": "f71fc3db-7cc3-4319-b2f1-f01dacace970",
        "colab": {
          "base_uri": "https://localhost:8080/",
          "height": 111
        }
      },
      "execution_count": 2,
      "outputs": [
        {
          "data": {
            "text/html": [
              "\n",
              "     <input type=\"file\" id=\"files-4665a9fe-b3c4-4ce7-844b-9f5212d722e1\" name=\"files[]\" multiple disabled\n",
              "        style=\"border:none\" />\n",
              "     <output id=\"result-4665a9fe-b3c4-4ce7-844b-9f5212d722e1\">\n",
              "      Upload widget is only available when the cell has been executed in the\n",
              "      current browser session. Please rerun this cell to enable.\n",
              "      </output>\n",
              "      <script>// Copyright 2017 Google LLC\n",
              "//\n",
              "// Licensed under the Apache License, Version 2.0 (the \"License\");\n",
              "// you may not use this file except in compliance with the License.\n",
              "// You may obtain a copy of the License at\n",
              "//\n",
              "//      http://www.apache.org/licenses/LICENSE-2.0\n",
              "//\n",
              "// Unless required by applicable law or agreed to in writing, software\n",
              "// distributed under the License is distributed on an \"AS IS\" BASIS,\n",
              "// WITHOUT WARRANTIES OR CONDITIONS OF ANY KIND, either express or implied.\n",
              "// See the License for the specific language governing permissions and\n",
              "// limitations under the License.\n",
              "\n",
              "/**\n",
              " * @fileoverview Helpers for google.colab Python module.\n",
              " */\n",
              "(function(scope) {\n",
              "function span(text, styleAttributes = {}) {\n",
              "  const element = document.createElement('span');\n",
              "  element.textContent = text;\n",
              "  for (const key of Object.keys(styleAttributes)) {\n",
              "    element.style[key] = styleAttributes[key];\n",
              "  }\n",
              "  return element;\n",
              "}\n",
              "\n",
              "// Max number of bytes which will be uploaded at a time.\n",
              "const MAX_PAYLOAD_SIZE = 100 * 1024;\n",
              "\n",
              "function _uploadFiles(inputId, outputId) {\n",
              "  const steps = uploadFilesStep(inputId, outputId);\n",
              "  const outputElement = document.getElementById(outputId);\n",
              "  // Cache steps on the outputElement to make it available for the next call\n",
              "  // to uploadFilesContinue from Python.\n",
              "  outputElement.steps = steps;\n",
              "\n",
              "  return _uploadFilesContinue(outputId);\n",
              "}\n",
              "\n",
              "// This is roughly an async generator (not supported in the browser yet),\n",
              "// where there are multiple asynchronous steps and the Python side is going\n",
              "// to poll for completion of each step.\n",
              "// This uses a Promise to block the python side on completion of each step,\n",
              "// then passes the result of the previous step as the input to the next step.\n",
              "function _uploadFilesContinue(outputId) {\n",
              "  const outputElement = document.getElementById(outputId);\n",
              "  const steps = outputElement.steps;\n",
              "\n",
              "  const next = steps.next(outputElement.lastPromiseValue);\n",
              "  return Promise.resolve(next.value.promise).then((value) => {\n",
              "    // Cache the last promise value to make it available to the next\n",
              "    // step of the generator.\n",
              "    outputElement.lastPromiseValue = value;\n",
              "    return next.value.response;\n",
              "  });\n",
              "}\n",
              "\n",
              "/**\n",
              " * Generator function which is called between each async step of the upload\n",
              " * process.\n",
              " * @param {string} inputId Element ID of the input file picker element.\n",
              " * @param {string} outputId Element ID of the output display.\n",
              " * @return {!Iterable<!Object>} Iterable of next steps.\n",
              " */\n",
              "function* uploadFilesStep(inputId, outputId) {\n",
              "  const inputElement = document.getElementById(inputId);\n",
              "  inputElement.disabled = false;\n",
              "\n",
              "  const outputElement = document.getElementById(outputId);\n",
              "  outputElement.innerHTML = '';\n",
              "\n",
              "  const pickedPromise = new Promise((resolve) => {\n",
              "    inputElement.addEventListener('change', (e) => {\n",
              "      resolve(e.target.files);\n",
              "    });\n",
              "  });\n",
              "\n",
              "  const cancel = document.createElement('button');\n",
              "  inputElement.parentElement.appendChild(cancel);\n",
              "  cancel.textContent = 'Cancel upload';\n",
              "  const cancelPromise = new Promise((resolve) => {\n",
              "    cancel.onclick = () => {\n",
              "      resolve(null);\n",
              "    };\n",
              "  });\n",
              "\n",
              "  // Wait for the user to pick the files.\n",
              "  const files = yield {\n",
              "    promise: Promise.race([pickedPromise, cancelPromise]),\n",
              "    response: {\n",
              "      action: 'starting',\n",
              "    }\n",
              "  };\n",
              "\n",
              "  cancel.remove();\n",
              "\n",
              "  // Disable the input element since further picks are not allowed.\n",
              "  inputElement.disabled = true;\n",
              "\n",
              "  if (!files) {\n",
              "    return {\n",
              "      response: {\n",
              "        action: 'complete',\n",
              "      }\n",
              "    };\n",
              "  }\n",
              "\n",
              "  for (const file of files) {\n",
              "    const li = document.createElement('li');\n",
              "    li.append(span(file.name, {fontWeight: 'bold'}));\n",
              "    li.append(span(\n",
              "        `(${file.type || 'n/a'}) - ${file.size} bytes, ` +\n",
              "        `last modified: ${\n",
              "            file.lastModifiedDate ? file.lastModifiedDate.toLocaleDateString() :\n",
              "                                    'n/a'} - `));\n",
              "    const percent = span('0% done');\n",
              "    li.appendChild(percent);\n",
              "\n",
              "    outputElement.appendChild(li);\n",
              "\n",
              "    const fileDataPromise = new Promise((resolve) => {\n",
              "      const reader = new FileReader();\n",
              "      reader.onload = (e) => {\n",
              "        resolve(e.target.result);\n",
              "      };\n",
              "      reader.readAsArrayBuffer(file);\n",
              "    });\n",
              "    // Wait for the data to be ready.\n",
              "    let fileData = yield {\n",
              "      promise: fileDataPromise,\n",
              "      response: {\n",
              "        action: 'continue',\n",
              "      }\n",
              "    };\n",
              "\n",
              "    // Use a chunked sending to avoid message size limits. See b/62115660.\n",
              "    let position = 0;\n",
              "    do {\n",
              "      const length = Math.min(fileData.byteLength - position, MAX_PAYLOAD_SIZE);\n",
              "      const chunk = new Uint8Array(fileData, position, length);\n",
              "      position += length;\n",
              "\n",
              "      const base64 = btoa(String.fromCharCode.apply(null, chunk));\n",
              "      yield {\n",
              "        response: {\n",
              "          action: 'append',\n",
              "          file: file.name,\n",
              "          data: base64,\n",
              "        },\n",
              "      };\n",
              "\n",
              "      let percentDone = fileData.byteLength === 0 ?\n",
              "          100 :\n",
              "          Math.round((position / fileData.byteLength) * 100);\n",
              "      percent.textContent = `${percentDone}% done`;\n",
              "\n",
              "    } while (position < fileData.byteLength);\n",
              "  }\n",
              "\n",
              "  // All done.\n",
              "  yield {\n",
              "    response: {\n",
              "      action: 'complete',\n",
              "    }\n",
              "  };\n",
              "}\n",
              "\n",
              "scope.google = scope.google || {};\n",
              "scope.google.colab = scope.google.colab || {};\n",
              "scope.google.colab._files = {\n",
              "  _uploadFiles,\n",
              "  _uploadFilesContinue,\n",
              "};\n",
              "})(self);\n",
              "</script> "
            ],
            "text/plain": [
              "<IPython.core.display.HTML object>"
            ]
          },
          "metadata": {},
          "output_type": "display_data"
        },
        {
          "metadata": {
            "tags": null
          },
          "name": "stdout",
          "output_type": "stream",
          "text": [
            "Saving X_test10.csv to X_test10.csv\n",
            "Saving X_train10.csv to X_train10.csv\n",
            "Saving y_test10.csv to y_test10.csv\n",
            "Saving y_train10.csv to y_train10.csv\n"
          ]
        }
      ]
    },
    {
      "cell_type": "code",
      "source": [
        "num = \"10\"\n",
        "X_test = pd.read_csv(\"/content/X_test\"+num+\".csv\")\n",
        "X_train = pd.read_csv(\"/content/X_train\"+num+\".csv\")\n",
        "y_test = pd.read_csv(\"/content/y_test\"+num+\".csv\")\n",
        "y_train = pd.read_csv(\"/content/y_train\"+num+\".csv\")"
      ],
      "metadata": {
        "id": "L3jbVEROyLEC"
      },
      "execution_count": 3,
      "outputs": []
    },
    {
      "cell_type": "code",
      "source": [
        "max_length = 100\n",
        "max_sentence = 50\n",
        "# for x in range(0,len(X_train)):\n",
        "#   line = X_train.loc[x].at[\"text\"]\n",
        "#   if max_length < len(line.split()) :\n",
        "#     max_length = len(line.split())\n",
        "\n",
        "print(max_length)\n"
      ],
      "metadata": {
        "colab": {
          "base_uri": "https://localhost:8080/"
        },
        "id": "E_IU66B2rG_e",
        "outputId": "59b0727c-3315-48b3-f1fa-1acf990b4a15"
      },
      "execution_count": 4,
      "outputs": [
        {
          "metadata": {
            "tags": null
          },
          "name": "stdout",
          "output_type": "stream",
          "text": [
            "100\n"
          ]
        }
      ]
    },
    {
      "cell_type": "code",
      "source": [
        "from gensim.parsing.preprocessing import remove_stopwords\n",
        "\n",
        "def preprocess(text):\n",
        "  return remove_stopwords(text)\n",
        "\n",
        "X_train[\"stemmed_text_data\"] = X_train[\"text\"].map(preprocess)\n",
        "X_test[\"stemmed_text_data\"] = X_test[\"text\"].map(preprocess)"
      ],
      "metadata": {
        "id": "9wpXnXU0q9sx"
      },
      "execution_count": 5,
      "outputs": []
    },
    {
      "cell_type": "code",
      "source": [
        "!pip install sentence-transformers\n",
        "from sentence_transformers import SentenceTransformer\n",
        "sbert_model = SentenceTransformer('all-MiniLM-L6-v2')\n"
      ],
      "metadata": {
        "id": "aqJxHbdjkiXL",
        "colab": {
          "base_uri": "https://localhost:8080/",
          "height": 1000,
          "referenced_widgets": [
            "0599447741794c9bbdee3c05f3f0d927",
            "e25f035791fb4dcf9cfe036258421d52",
            "befaeab37e644500b34cc5a44f74f6bb",
            "8043a60edc98498d95f529099448ec04",
            "a309afaeb36c4ab3a9bc7367e9ac0edd",
            "8094759c55284aa494c2d3eff852f490",
            "d6463ef6c0cd46d889723fea60b70789",
            "3dad82a682304ea5951d8149e9ed692a",
            "d3803ba1917a41c2bd4158700e394bac",
            "ef7561af58d04323a1ef1216c4a9adcf",
            "a27136ba7d52433394e862a9c4d1e45a",
            "24fa4dc2f2ae4a90ae9d4cd7cdf81e81",
            "d90204a8b7684af18708515da2175282",
            "14f661d0ca3e495fa1ab6104aceec3c0"
          ]
        },
        "outputId": "f4b757db-c1b1-4b52-bf22-92edccf919a0"
      },
      "execution_count": 6,
      "outputs": [
        {
          "metadata": {
            "tags": null
          },
          "name": "stdout",
          "output_type": "stream",
          "text": [
            "Collecting sentence-transformers\n",
            "  Downloading sentence-transformers-2.2.2.tar.gz (85 kB)\n",
            "\u001b[2K     \u001b[90m━━━━━━━━━━━━━━━━━━━━━━━━━━━━━━━━━━━━━━━━\u001b[0m \u001b[32m86.0/86.0 kB\u001b[0m \u001b[31m3.2 MB/s\u001b[0m eta \u001b[36m0:00:00\u001b[0m\n",
            "\u001b[?25h  Preparing metadata (setup.py) ... \u001b[?25l\u001b[?25hdone\n",
            "Collecting transformers<5.0.0,>=4.6.0 (from sentence-transformers)\n",
            "  Downloading transformers-4.31.0-py3-none-any.whl (7.4 MB)\n",
            "\u001b[2K     \u001b[90m━━━━━━━━━━━━━━━━━━━━━━━━━━━━━━━━━━━━━━━━\u001b[0m \u001b[32m7.4/7.4 MB\u001b[0m \u001b[31m74.1 MB/s\u001b[0m eta \u001b[36m0:00:00\u001b[0m\n",
            "\u001b[?25hRequirement already satisfied: tqdm in /usr/local/lib/python3.10/dist-packages (from sentence-transformers) (4.66.0)\n",
            "Requirement already satisfied: torch>=1.6.0 in /usr/local/lib/python3.10/dist-packages (from sentence-transformers) (2.0.1+cu118)\n",
            "Requirement already satisfied: torchvision in /usr/local/lib/python3.10/dist-packages (from sentence-transformers) (0.15.2+cu118)\n",
            "Requirement already satisfied: numpy in /usr/local/lib/python3.10/dist-packages (from sentence-transformers) (1.23.5)\n",
            "Requirement already satisfied: scikit-learn in /usr/local/lib/python3.10/dist-packages (from sentence-transformers) (1.2.2)\n",
            "Requirement already satisfied: scipy in /usr/local/lib/python3.10/dist-packages (from sentence-transformers) (1.10.1)\n",
            "Requirement already satisfied: nltk in /usr/local/lib/python3.10/dist-packages (from sentence-transformers) (3.8.1)\n",
            "Collecting sentencepiece (from sentence-transformers)\n",
            "  Downloading sentencepiece-0.1.99-cp310-cp310-manylinux_2_17_x86_64.manylinux2014_x86_64.whl (1.3 MB)\n",
            "\u001b[2K     \u001b[90m━━━━━━━━━━━━━━━━━━━━━━━━━━━━━━━━━━━━━━━━\u001b[0m \u001b[32m1.3/1.3 MB\u001b[0m \u001b[31m61.3 MB/s\u001b[0m eta \u001b[36m0:00:00\u001b[0m\n",
            "\u001b[?25hCollecting huggingface-hub>=0.4.0 (from sentence-transformers)\n",
            "  Downloading huggingface_hub-0.16.4-py3-none-any.whl (268 kB)\n",
            "\u001b[2K     \u001b[90m━━━━━━━━━━━━━━━━━━━━━━━━━━━━━━━━━━━━━━\u001b[0m \u001b[32m268.8/268.8 kB\u001b[0m \u001b[31m23.0 MB/s\u001b[0m eta \u001b[36m0:00:00\u001b[0m\n",
            "\u001b[?25hRequirement already satisfied: filelock in /usr/local/lib/python3.10/dist-packages (from huggingface-hub>=0.4.0->sentence-transformers) (3.12.2)\n",
            "Requirement already satisfied: fsspec in /usr/local/lib/python3.10/dist-packages (from huggingface-hub>=0.4.0->sentence-transformers) (2023.6.0)\n",
            "Requirement already satisfied: requests in /usr/local/lib/python3.10/dist-packages (from huggingface-hub>=0.4.0->sentence-transformers) (2.31.0)\n",
            "Requirement already satisfied: pyyaml>=5.1 in /usr/local/lib/python3.10/dist-packages (from huggingface-hub>=0.4.0->sentence-transformers) (6.0.1)\n",
            "Requirement already satisfied: typing-extensions>=3.7.4.3 in /usr/local/lib/python3.10/dist-packages (from huggingface-hub>=0.4.0->sentence-transformers) (4.7.1)\n",
            "Requirement already satisfied: packaging>=20.9 in /usr/local/lib/python3.10/dist-packages (from huggingface-hub>=0.4.0->sentence-transformers) (23.1)\n",
            "Requirement already satisfied: sympy in /usr/local/lib/python3.10/dist-packages (from torch>=1.6.0->sentence-transformers) (1.12)\n",
            "Requirement already satisfied: networkx in /usr/local/lib/python3.10/dist-packages (from torch>=1.6.0->sentence-transformers) (3.1)\n",
            "Requirement already satisfied: jinja2 in /usr/local/lib/python3.10/dist-packages (from torch>=1.6.0->sentence-transformers) (3.1.2)\n",
            "Requirement already satisfied: triton==2.0.0 in /usr/local/lib/python3.10/dist-packages (from torch>=1.6.0->sentence-transformers) (2.0.0)\n",
            "Requirement already satisfied: cmake in /usr/local/lib/python3.10/dist-packages (from triton==2.0.0->torch>=1.6.0->sentence-transformers) (3.27.1)\n",
            "Requirement already satisfied: lit in /usr/local/lib/python3.10/dist-packages (from triton==2.0.0->torch>=1.6.0->sentence-transformers) (16.0.6)\n",
            "Requirement already satisfied: regex!=2019.12.17 in /usr/local/lib/python3.10/dist-packages (from transformers<5.0.0,>=4.6.0->sentence-transformers) (2023.6.3)\n",
            "Collecting tokenizers!=0.11.3,<0.14,>=0.11.1 (from transformers<5.0.0,>=4.6.0->sentence-transformers)\n",
            "  Downloading tokenizers-0.13.3-cp310-cp310-manylinux_2_17_x86_64.manylinux2014_x86_64.whl (7.8 MB)\n",
            "\u001b[2K     \u001b[90m━━━━━━━━━━━━━━━━━━━━━━━━━━━━━━━━━━━━━━━━\u001b[0m \u001b[32m7.8/7.8 MB\u001b[0m \u001b[31m118.1 MB/s\u001b[0m eta \u001b[36m0:00:00\u001b[0m\n",
            "\u001b[?25hCollecting safetensors>=0.3.1 (from transformers<5.0.0,>=4.6.0->sentence-transformers)\n",
            "  Downloading safetensors-0.3.2-cp310-cp310-manylinux_2_17_x86_64.manylinux2014_x86_64.whl (1.3 MB)\n",
            "\u001b[2K     \u001b[90m━━━━━━━━━━━━━━━━━━━━━━━━━━━━━━━━━━━━━━━━\u001b[0m \u001b[32m1.3/1.3 MB\u001b[0m \u001b[31m73.5 MB/s\u001b[0m eta \u001b[36m0:00:00\u001b[0m\n",
            "\u001b[?25hRequirement already satisfied: click in /usr/local/lib/python3.10/dist-packages (from nltk->sentence-transformers) (8.1.6)\n",
            "Requirement already satisfied: joblib in /usr/local/lib/python3.10/dist-packages (from nltk->sentence-transformers) (1.3.2)\n",
            "Requirement already satisfied: threadpoolctl>=2.0.0 in /usr/local/lib/python3.10/dist-packages (from scikit-learn->sentence-transformers) (3.2.0)\n",
            "Requirement already satisfied: pillow!=8.3.*,>=5.3.0 in /usr/local/lib/python3.10/dist-packages (from torchvision->sentence-transformers) (9.4.0)\n",
            "Requirement already satisfied: MarkupSafe>=2.0 in /usr/local/lib/python3.10/dist-packages (from jinja2->torch>=1.6.0->sentence-transformers) (2.1.3)\n",
            "Requirement already satisfied: charset-normalizer<4,>=2 in /usr/local/lib/python3.10/dist-packages (from requests->huggingface-hub>=0.4.0->sentence-transformers) (3.2.0)\n",
            "Requirement already satisfied: idna<4,>=2.5 in /usr/local/lib/python3.10/dist-packages (from requests->huggingface-hub>=0.4.0->sentence-transformers) (3.4)\n",
            "Requirement already satisfied: urllib3<3,>=1.21.1 in /usr/local/lib/python3.10/dist-packages (from requests->huggingface-hub>=0.4.0->sentence-transformers) (2.0.4)\n",
            "Requirement already satisfied: certifi>=2017.4.17 in /usr/local/lib/python3.10/dist-packages (from requests->huggingface-hub>=0.4.0->sentence-transformers) (2023.7.22)\n",
            "Requirement already satisfied: mpmath>=0.19 in /usr/local/lib/python3.10/dist-packages (from sympy->torch>=1.6.0->sentence-transformers) (1.3.0)\n",
            "Building wheels for collected packages: sentence-transformers\n",
            "  Building wheel for sentence-transformers (setup.py) ... \u001b[?25l\u001b[?25hdone\n",
            "  Created wheel for sentence-transformers: filename=sentence_transformers-2.2.2-py3-none-any.whl size=125924 sha256=fcb6e7f9c9c494bf170f585eeefe11ebe31f59130dd6692c813e0cb07f6f44d0\n",
            "  Stored in directory: /root/.cache/pip/wheels/62/f2/10/1e606fd5f02395388f74e7462910fe851042f97238cbbd902f\n",
            "Successfully built sentence-transformers\n",
            "Installing collected packages: tokenizers, sentencepiece, safetensors, huggingface-hub, transformers, sentence-transformers\n",
            "Successfully installed huggingface-hub-0.16.4 safetensors-0.3.2 sentence-transformers-2.2.2 sentencepiece-0.1.99 tokenizers-0.13.3 transformers-4.31.0\n"
          ]
        },
        {
          "data": {
            "application/vnd.jupyter.widget-view+json": {
              "model_id": "0599447741794c9bbdee3c05f3f0d927",
              "version_major": 2,
              "version_minor": 0
            },
            "text/plain": [
              "Downloading (…)e9125/.gitattributes:   0%|          | 0.00/1.18k [00:00<?, ?B/s]"
            ]
          },
          "metadata": {},
          "output_type": "display_data"
        },
        {
          "data": {
            "application/vnd.jupyter.widget-view+json": {
              "model_id": "e25f035791fb4dcf9cfe036258421d52",
              "version_major": 2,
              "version_minor": 0
            },
            "text/plain": [
              "Downloading (…)_Pooling/config.json:   0%|          | 0.00/190 [00:00<?, ?B/s]"
            ]
          },
          "metadata": {},
          "output_type": "display_data"
        },
        {
          "data": {
            "application/vnd.jupyter.widget-view+json": {
              "model_id": "befaeab37e644500b34cc5a44f74f6bb",
              "version_major": 2,
              "version_minor": 0
            },
            "text/plain": [
              "Downloading (…)7e55de9125/README.md:   0%|          | 0.00/10.6k [00:00<?, ?B/s]"
            ]
          },
          "metadata": {},
          "output_type": "display_data"
        },
        {
          "data": {
            "application/vnd.jupyter.widget-view+json": {
              "model_id": "8043a60edc98498d95f529099448ec04",
              "version_major": 2,
              "version_minor": 0
            },
            "text/plain": [
              "Downloading (…)55de9125/config.json:   0%|          | 0.00/612 [00:00<?, ?B/s]"
            ]
          },
          "metadata": {},
          "output_type": "display_data"
        },
        {
          "data": {
            "application/vnd.jupyter.widget-view+json": {
              "model_id": "a309afaeb36c4ab3a9bc7367e9ac0edd",
              "version_major": 2,
              "version_minor": 0
            },
            "text/plain": [
              "Downloading (…)ce_transformers.json:   0%|          | 0.00/116 [00:00<?, ?B/s]"
            ]
          },
          "metadata": {},
          "output_type": "display_data"
        },
        {
          "data": {
            "application/vnd.jupyter.widget-view+json": {
              "model_id": "8094759c55284aa494c2d3eff852f490",
              "version_major": 2,
              "version_minor": 0
            },
            "text/plain": [
              "Downloading (…)125/data_config.json:   0%|          | 0.00/39.3k [00:00<?, ?B/s]"
            ]
          },
          "metadata": {},
          "output_type": "display_data"
        },
        {
          "data": {
            "application/vnd.jupyter.widget-view+json": {
              "model_id": "d6463ef6c0cd46d889723fea60b70789",
              "version_major": 2,
              "version_minor": 0
            },
            "text/plain": [
              "Downloading pytorch_model.bin:   0%|          | 0.00/90.9M [00:00<?, ?B/s]"
            ]
          },
          "metadata": {},
          "output_type": "display_data"
        },
        {
          "data": {
            "application/vnd.jupyter.widget-view+json": {
              "model_id": "3dad82a682304ea5951d8149e9ed692a",
              "version_major": 2,
              "version_minor": 0
            },
            "text/plain": [
              "Downloading (…)nce_bert_config.json:   0%|          | 0.00/53.0 [00:00<?, ?B/s]"
            ]
          },
          "metadata": {},
          "output_type": "display_data"
        },
        {
          "data": {
            "application/vnd.jupyter.widget-view+json": {
              "model_id": "d3803ba1917a41c2bd4158700e394bac",
              "version_major": 2,
              "version_minor": 0
            },
            "text/plain": [
              "Downloading (…)cial_tokens_map.json:   0%|          | 0.00/112 [00:00<?, ?B/s]"
            ]
          },
          "metadata": {},
          "output_type": "display_data"
        },
        {
          "data": {
            "application/vnd.jupyter.widget-view+json": {
              "model_id": "ef7561af58d04323a1ef1216c4a9adcf",
              "version_major": 2,
              "version_minor": 0
            },
            "text/plain": [
              "Downloading (…)e9125/tokenizer.json:   0%|          | 0.00/466k [00:00<?, ?B/s]"
            ]
          },
          "metadata": {},
          "output_type": "display_data"
        },
        {
          "data": {
            "application/vnd.jupyter.widget-view+json": {
              "model_id": "a27136ba7d52433394e862a9c4d1e45a",
              "version_major": 2,
              "version_minor": 0
            },
            "text/plain": [
              "Downloading (…)okenizer_config.json:   0%|          | 0.00/350 [00:00<?, ?B/s]"
            ]
          },
          "metadata": {},
          "output_type": "display_data"
        },
        {
          "data": {
            "application/vnd.jupyter.widget-view+json": {
              "model_id": "24fa4dc2f2ae4a90ae9d4cd7cdf81e81",
              "version_major": 2,
              "version_minor": 0
            },
            "text/plain": [
              "Downloading (…)9125/train_script.py:   0%|          | 0.00/13.2k [00:00<?, ?B/s]"
            ]
          },
          "metadata": {},
          "output_type": "display_data"
        },
        {
          "data": {
            "application/vnd.jupyter.widget-view+json": {
              "model_id": "d90204a8b7684af18708515da2175282",
              "version_major": 2,
              "version_minor": 0
            },
            "text/plain": [
              "Downloading (…)7e55de9125/vocab.txt:   0%|          | 0.00/232k [00:00<?, ?B/s]"
            ]
          },
          "metadata": {},
          "output_type": "display_data"
        },
        {
          "data": {
            "application/vnd.jupyter.widget-view+json": {
              "model_id": "14f661d0ca3e495fa1ab6104aceec3c0",
              "version_major": 2,
              "version_minor": 0
            },
            "text/plain": [
              "Downloading (…)5de9125/modules.json:   0%|          | 0.00/349 [00:00<?, ?B/s]"
            ]
          },
          "metadata": {},
          "output_type": "display_data"
        }
      ]
    },
    {
      "cell_type": "code",
      "source": [
        "def percent_complete(step, total_steps, bar_width=60, title=\"\", print_perc=True):\n",
        "    import sys\n",
        "\n",
        "    # UTF-8 left blocks: 1, 1/8, 1/4, 3/8, 1/2, 5/8, 3/4, 7/8\n",
        "    utf_8s = [\"█\", \"▏\", \"▎\", \"▍\", \"▌\", \"▋\", \"▊\", \"█\"]\n",
        "    perc = 100 * float(step) / float(total_steps)\n",
        "    max_ticks = bar_width * 8\n",
        "    num_ticks = int(round(perc / 100 * max_ticks))\n",
        "    full_ticks = num_ticks / 8      # Number of full blocks\n",
        "    part_ticks = num_ticks % 8      # Size of partial block (array index)\n",
        "\n",
        "    disp = bar = \"\"                 # Blank out variables\n",
        "    bar += utf_8s[0] * int(full_ticks)  # Add full blocks into Progress Bar\n",
        "\n",
        "    # If part_ticks is zero, then no partial block, else append part char\n",
        "    if part_ticks > 0:\n",
        "        bar += utf_8s[part_ticks]\n",
        "\n",
        "    # Pad Progress Bar with fill character\n",
        "    bar += \"▒\" * int((max_ticks/8 - float(num_ticks)/8.0))\n",
        "\n",
        "    if len(title) > 0:\n",
        "        disp = title + \": \"         # Optional title to progress display\n",
        "\n",
        "    # Print progress bar in green: https://stackoverflow.com/a/21786287/6929343\n",
        "    disp += \"\\x1b[0;32m\"            # Color Green\n",
        "    disp += bar                     # Progress bar to progress display\n",
        "    disp += \"\\x1b[0m\"               # Color Reset\n",
        "    if print_perc:\n",
        "        # If requested, append percentage complete to progress display\n",
        "        if perc > 100.0:\n",
        "            perc = 100.0            # Fix \"100.04 %\" rounding error\n",
        "        disp += \" {:6.2f}\".format(perc) + \" %\"\n",
        "\n",
        "    # Output to terminal repetitively over the same line using '\\r'.\n",
        "    sys.stdout.write(\"\\r\" + disp)\n",
        "    sys.stdout.flush()"
      ],
      "metadata": {
        "id": "yGuMut23CGxQ"
      },
      "execution_count": 7,
      "outputs": []
    },
    {
      "cell_type": "code",
      "source": [
        "import nltk\n",
        "nltk.download('punkt')\n",
        "from nltk.tokenize import sent_tokenize\n",
        "import tensorflow as tf\n",
        "\n",
        "def encode(text, maxlen,maxSentence,mtitle):\n",
        "  embeddings=[]\n",
        "  counter = 1\n",
        "  for row in text:\n",
        "    embedding =[]\n",
        "    counter+=1\n",
        "    sentecesCoutner = 0\n",
        "    percent_complete(counter, len(text), title=mtitle)\n",
        "    for sent in sent_tokenize(row):\n",
        "      sentecesCoutner+=1\n",
        "      if(sentecesCoutner<maxSentence):\n",
        "        embedding.append(sbert_model.encode(sentences=sent ,convert_to_numpy=True ))\n",
        "\n",
        "    loop = 50 - len(embedding)\n",
        "    for x in range(loop):\n",
        "      embedding.append(np.zeros([384],dtype=float))\n",
        "    embeddings.append(embedding)\n",
        "\n",
        "  return embeddings"
      ],
      "metadata": {
        "colab": {
          "base_uri": "https://localhost:8080/"
        },
        "id": "mTE2HlvRCPrk",
        "outputId": "c055dd26-c3b7-459e-fc94-bbd593f2fdbf"
      },
      "execution_count": 8,
      "outputs": [
        {
          "metadata": {
            "tags": null
          },
          "name": "stderr",
          "output_type": "stream",
          "text": [
            "[nltk_data] Downloading package punkt to /root/nltk_data...\n",
            "[nltk_data]   Unzipping tokenizers/punkt.zip.\n"
          ]
        }
      ]
    },
    {
      "cell_type": "code",
      "source": [
        "import time"
      ],
      "metadata": {
        "id": "YXpzKTimuudm"
      },
      "execution_count": 9,
      "outputs": []
    },
    {
      "cell_type": "code",
      "source": [
        "startedTime = time.time()\n",
        "X_train_encoded = encode(X_train.stemmed_text_data,max_length,max_sentence,\"X_train_embedding\")\n",
        "endTime= time.time()\n",
        "print(\"\\nElapsed Time : \", endTime - startedTime, \"sec or \",(endTime - startedTime)/60,\"min\")"
      ],
      "metadata": {
        "id": "kv10bLr4kbfo",
        "outputId": "d57ef735-1cc7-4c34-8ab7-d96dd0c0b77d",
        "colab": {
          "base_uri": "https://localhost:8080/"
        }
      },
      "execution_count": 10,
      "outputs": [
        {
          "output_type": "stream",
          "name": "stdout",
          "text": [
            "X_train_embedding: \u001b[0;32m████████████████████████████████████████████████████████████\u001b[0m 100.00 %\n",
            "Elapsed Time :  233.03514885902405 sec or  3.883919147650401 min\n",
            "\n",
            "Elapsed Time :  233.03514885902405 sec or  3.883919147650401 min\n",
            "\n",
            "Elapsed Time :  233.03514885902405 sec or  3.883919147650401 min\n"
          ]
        }
      ]
    },
    {
      "cell_type": "code",
      "source": [
        "startedTime = time.time()\n",
        "X_test_encoded = encode(X_test.stemmed_text_data,max_length,max_sentence,\"X_test_embedding\")\n",
        "endTime= time.time()\n",
        "print(\"\\nElapsed Time : \", endTime - startedTime, \"sec or \",(endTime - startedTime)/60,\"min\")"
      ],
      "metadata": {
        "colab": {
          "base_uri": "https://localhost:8080/"
        },
        "id": "xtF6RA38D2HS",
        "outputId": "1beea95e-b389-41b9-f5ff-01721768140e"
      },
      "execution_count": 11,
      "outputs": [
        {
          "output_type": "stream",
          "name": "stdout",
          "text": [
            "X_test_embedding: \u001b[0;32m████████████████████████████████████████████████████████████▎\u001b[0m 100.00 %\n",
            "Elapsed Time :  60.12535905838013 sec or  1.0020893176396688 min\n",
            "\n",
            "Elapsed Time :  60.12535905838013 sec or  1.0020893176396688 min\n",
            "\n",
            "Elapsed Time :  60.12535905838013 sec or  1.0020893176396688 min\n"
          ]
        }
      ]
    },
    {
      "cell_type": "code",
      "source": [
        "X_train_embedding_squeezed = np.squeeze(X_train_encoded)\n",
        "X_test_embedding_squeezed = np.squeeze(X_test_encoded)"
      ],
      "metadata": {
        "id": "LP5KNL_RSb9e"
      },
      "execution_count": 12,
      "outputs": []
    },
    {
      "cell_type": "code",
      "source": [
        "print(\"X_train.shape = \" , np.shape(X_train_embedding_squeezed), \" y_train.shape = \", y_train[\"deceptive\"].shape)\n",
        "print(\"X_test.shape = \" , np.shape(X_test_embedding_squeezed), \" y_test.shape = \", y_test[\"deceptive\"].shape)"
      ],
      "metadata": {
        "id": "Zp1RQ7EEoK2p",
        "outputId": "f16c6a01-c396-437f-f957-0d9978924481",
        "colab": {
          "base_uri": "https://localhost:8080/"
        }
      },
      "execution_count": 13,
      "outputs": [
        {
          "output_type": "stream",
          "name": "stdout",
          "text": [
            "X_train.shape =  (1280, 50, 384)  y_train.shape =  (1280,)\n",
            "X_test.shape =  (320, 50, 384)  y_test.shape =  (320,)\n",
            "X_train.shape =  (1280, 50, 384)  y_train.shape =  (1280,)\n",
            "X_test.shape =  (320, 50, 384)  y_test.shape =  (320,)\n",
            "X_train.shape =  (1280, 50, 384)  y_train.shape =  (1280,)\n",
            "X_test.shape =  (320, 50, 384)  y_test.shape =  (320,)\n"
          ]
        }
      ]
    },
    {
      "cell_type": "code",
      "source": [
        "from keras.models import Sequential\n",
        "from keras.layers import Dense,AveragePooling1D\n",
        "import keras\n",
        "\n",
        "# define and fit the final model\n",
        "METRICS = [\n",
        "      tf.keras.metrics.BinaryAccuracy(name='accuracy'),\n",
        "      tf.keras.metrics.Precision(name='precision'),\n",
        "      tf.keras.metrics.Recall(name='recall')\n",
        "   ]\n",
        "model = Sequential()\n",
        "model.add(keras.Input(shape=(50,384,)))\n",
        "model.add(AveragePooling1D(pool_size=(50)))\n",
        "model.add(Dense(64, activation='relu'))\n",
        "model.add(Dense(32, activation='relu'))\n",
        "model.add(Dense(1, activation='sigmoid'))\n",
        "model.compile(loss='binary_crossentropy', optimizer='adam', metrics=METRICS)\n"
      ],
      "metadata": {
        "id": "D3PXEB9CP4v9"
      },
      "execution_count": 14,
      "outputs": []
    },
    {
      "cell_type": "code",
      "source": [
        "model.summary()"
      ],
      "metadata": {
        "colab": {
          "base_uri": "https://localhost:8080/"
        },
        "id": "9BbD9x-ZRvad",
        "outputId": "61db8fd0-7159-49ba-b55e-3201ea9adc6f"
      },
      "execution_count": 15,
      "outputs": [
        {
          "output_type": "stream",
          "name": "stdout",
          "text": [
            " Layer (type)                Output Shape              Param #   \n",
            " Layer (type)                Output Shape              Param #   \n",
            " Layer (type)                Output Shape              Param #   \n",
            "=================================================================\n",
            "=================================================================\n",
            "=================================================================\n",
            " average_pooling1d (AverageP  (None, 1, 384)           0         \n",
            " average_pooling1d (AverageP  (None, 1, 384)           0         \n",
            " average_pooling1d (AverageP  (None, 1, 384)           0         \n",
            " ooling1D)                                                       \n",
            " ooling1D)                                                       \n",
            " ooling1D)                                                       \n",
            "                                                                 \n",
            "                                                                 \n",
            "                                                                 \n",
            " dense (Dense)               (None, 1, 64)             24640     \n",
            " dense (Dense)               (None, 1, 64)             24640     \n",
            " dense (Dense)               (None, 1, 64)             24640     \n",
            "                                                                 \n",
            "                                                                 \n",
            "                                                                 \n",
            " dense_1 (Dense)             (None, 1, 32)             2080      \n",
            " dense_1 (Dense)             (None, 1, 32)             2080      \n",
            " dense_1 (Dense)             (None, 1, 32)             2080      \n",
            "                                                                 \n",
            "                                                                 \n",
            "                                                                 \n",
            " dense_2 (Dense)             (None, 1, 1)              33        \n",
            " dense_2 (Dense)             (None, 1, 1)              33        \n",
            " dense_2 (Dense)             (None, 1, 1)              33        \n",
            "                                                                 \n",
            "                                                                 \n",
            "                                                                 \n",
            "=================================================================\n",
            "=================================================================\n",
            "=================================================================\n",
            "Total params: 26,753\n",
            "Total params: 26,753\n",
            "Total params: 26,753\n",
            "Trainable params: 26,753\n",
            "Trainable params: 26,753\n",
            "Trainable params: 26,753\n",
            "Non-trainable params: 0\n",
            "Non-trainable params: 0\n",
            "Non-trainable params: 0\n",
            "_________________________________________________________________\n",
            "_________________________________________________________________\n",
            "_________________________________________________________________\n"
          ]
        }
      ]
    },
    {
      "cell_type": "code",
      "source": [
        "startedTime = time.time()\n",
        "model.fit(X_train_embedding_squeezed,y_train.deceptive, epochs=50, batch_size=64, verbose=1)\n",
        "endTime= time.time()\n",
        "print(\"\\nElapsed Time : \", endTime - startedTime, \"sec or \",(endTime - startedTime)/60,\"min\")"
      ],
      "metadata": {
        "colab": {
          "base_uri": "https://localhost:8080/"
        },
        "id": "BHqcX9VuR-TC",
        "outputId": "f5c1ec74-6f64-4fbb-e025-7c020e154a3c"
      },
      "execution_count": 16,
      "outputs": [
        {
          "output_type": "stream",
          "name": "stdout",
          "text": [
            "Epoch 1/50\n",
            "Epoch 1/50\n",
            "Epoch 1/50\n",
            "20/20 [==============================] - 1s 4ms/step - loss: 0.6919 - accuracy: 0.5578 - precision: 0.5529 - recall: 0.6047\n",
            "20/20 [==============================] - 1s 4ms/step - loss: 0.6919 - accuracy: 0.5578 - precision: 0.5529 - recall: 0.6047\n",
            "20/20 [==============================] - 1s 4ms/step - loss: 0.6919 - accuracy: 0.5578 - precision: 0.5529 - recall: 0.6047\n",
            "Epoch 2/50\n",
            "Epoch 2/50\n",
            "Epoch 2/50\n",
            "20/20 [==============================] - 0s 3ms/step - loss: 0.6867 - accuracy: 0.6297 - precision: 0.5842 - recall: 0.9000\n",
            "20/20 [==============================] - 0s 3ms/step - loss: 0.6867 - accuracy: 0.6297 - precision: 0.5842 - recall: 0.9000\n",
            "20/20 [==============================] - 0s 3ms/step - loss: 0.6867 - accuracy: 0.6297 - precision: 0.5842 - recall: 0.9000\n",
            "Epoch 3/50\n",
            "Epoch 3/50\n",
            "Epoch 3/50\n",
            "20/20 [==============================] - 0s 3ms/step - loss: 0.6753 - accuracy: 0.6883 - precision: 0.6355 - recall: 0.8828\n",
            "20/20 [==============================] - 0s 3ms/step - loss: 0.6753 - accuracy: 0.6883 - precision: 0.6355 - recall: 0.8828\n",
            "20/20 [==============================] - 0s 3ms/step - loss: 0.6753 - accuracy: 0.6883 - precision: 0.6355 - recall: 0.8828\n",
            "Epoch 4/50\n",
            "Epoch 4/50\n",
            "Epoch 4/50\n",
            "20/20 [==============================] - 0s 4ms/step - loss: 0.6555 - accuracy: 0.7320 - precision: 0.6745 - recall: 0.8969\n",
            "20/20 [==============================] - 0s 4ms/step - loss: 0.6555 - accuracy: 0.7320 - precision: 0.6745 - recall: 0.8969\n",
            "20/20 [==============================] - 0s 4ms/step - loss: 0.6555 - accuracy: 0.7320 - precision: 0.6745 - recall: 0.8969\n",
            "Epoch 5/50\n",
            "Epoch 5/50\n",
            "Epoch 5/50\n",
            "20/20 [==============================] - 0s 3ms/step - loss: 0.6265 - accuracy: 0.7688 - precision: 0.7515 - recall: 0.8031\n",
            "20/20 [==============================] - 0s 3ms/step - loss: 0.6265 - accuracy: 0.7688 - precision: 0.7515 - recall: 0.8031\n",
            "20/20 [==============================] - 0s 3ms/step - loss: 0.6265 - accuracy: 0.7688 - precision: 0.7515 - recall: 0.8031\n",
            "Epoch 6/50\n",
            "Epoch 6/50\n",
            "Epoch 6/50\n",
            "20/20 [==============================] - 0s 3ms/step - loss: 0.5909 - accuracy: 0.7781 - precision: 0.7790 - recall: 0.7766\n",
            "20/20 [==============================] - 0s 3ms/step - loss: 0.5909 - accuracy: 0.7781 - precision: 0.7790 - recall: 0.7766\n",
            "20/20 [==============================] - 0s 3ms/step - loss: 0.5909 - accuracy: 0.7781 - precision: 0.7790 - recall: 0.7766\n",
            "Epoch 7/50\n",
            "Epoch 7/50\n",
            "Epoch 7/50\n",
            "20/20 [==============================] - 0s 4ms/step - loss: 0.5564 - accuracy: 0.7664 - precision: 0.7526 - recall: 0.7937\n",
            "20/20 [==============================] - 0s 4ms/step - loss: 0.5564 - accuracy: 0.7664 - precision: 0.7526 - recall: 0.7937\n",
            "20/20 [==============================] - 0s 4ms/step - loss: 0.5564 - accuracy: 0.7664 - precision: 0.7526 - recall: 0.7937\n",
            "Epoch 8/50\n",
            "Epoch 8/50\n",
            "Epoch 8/50\n",
            "20/20 [==============================] - 0s 4ms/step - loss: 0.5216 - accuracy: 0.7937 - precision: 0.7937 - recall: 0.7937\n",
            "20/20 [==============================] - 0s 4ms/step - loss: 0.5216 - accuracy: 0.7937 - precision: 0.7937 - recall: 0.7937\n",
            "20/20 [==============================] - 0s 4ms/step - loss: 0.5216 - accuracy: 0.7937 - precision: 0.7937 - recall: 0.7937\n",
            "Epoch 9/50\n",
            "Epoch 9/50\n",
            "Epoch 9/50\n",
            "20/20 [==============================] - 0s 3ms/step - loss: 0.4926 - accuracy: 0.8023 - precision: 0.7991 - recall: 0.8078\n",
            "20/20 [==============================] - 0s 3ms/step - loss: 0.4926 - accuracy: 0.8023 - precision: 0.7991 - recall: 0.8078\n",
            "20/20 [==============================] - 0s 3ms/step - loss: 0.4926 - accuracy: 0.8023 - precision: 0.7991 - recall: 0.8078\n",
            "Epoch 10/50\n",
            "Epoch 10/50\n",
            "Epoch 10/50\n",
            "20/20 [==============================] - 0s 3ms/step - loss: 0.4711 - accuracy: 0.8086 - precision: 0.8100 - recall: 0.8062\n",
            "20/20 [==============================] - 0s 3ms/step - loss: 0.4711 - accuracy: 0.8086 - precision: 0.8100 - recall: 0.8062\n",
            "20/20 [==============================] - 0s 3ms/step - loss: 0.4711 - accuracy: 0.8086 - precision: 0.8100 - recall: 0.8062\n",
            "Epoch 11/50\n",
            "Epoch 11/50\n",
            "Epoch 11/50\n",
            "20/20 [==============================] - 0s 3ms/step - loss: 0.4535 - accuracy: 0.8055 - precision: 0.8128 - recall: 0.7937\n",
            "20/20 [==============================] - 0s 3ms/step - loss: 0.4535 - accuracy: 0.8055 - precision: 0.8128 - recall: 0.7937\n",
            "20/20 [==============================] - 0s 3ms/step - loss: 0.4535 - accuracy: 0.8055 - precision: 0.8128 - recall: 0.7937\n",
            "Epoch 12/50\n",
            "Epoch 12/50\n",
            "Epoch 12/50\n",
            "20/20 [==============================] - 0s 3ms/step - loss: 0.4351 - accuracy: 0.8195 - precision: 0.8293 - recall: 0.8047\n",
            "20/20 [==============================] - 0s 3ms/step - loss: 0.4351 - accuracy: 0.8195 - precision: 0.8293 - recall: 0.8047\n",
            "20/20 [==============================] - 0s 3ms/step - loss: 0.4351 - accuracy: 0.8195 - precision: 0.8293 - recall: 0.8047\n",
            "Epoch 13/50\n",
            "Epoch 13/50\n",
            "Epoch 13/50\n",
            "20/20 [==============================] - 0s 4ms/step - loss: 0.4275 - accuracy: 0.8117 - precision: 0.8093 - recall: 0.8156\n",
            "20/20 [==============================] - 0s 4ms/step - loss: 0.4275 - accuracy: 0.8117 - precision: 0.8093 - recall: 0.8156\n",
            "20/20 [==============================] - 0s 4ms/step - loss: 0.4275 - accuracy: 0.8117 - precision: 0.8093 - recall: 0.8156\n",
            "Epoch 14/50\n",
            "Epoch 14/50\n",
            "Epoch 14/50\n",
            "20/20 [==============================] - 0s 3ms/step - loss: 0.4142 - accuracy: 0.8258 - precision: 0.8294 - recall: 0.8203\n",
            "20/20 [==============================] - 0s 3ms/step - loss: 0.4142 - accuracy: 0.8258 - precision: 0.8294 - recall: 0.8203\n",
            "20/20 [==============================] - 0s 3ms/step - loss: 0.4142 - accuracy: 0.8258 - precision: 0.8294 - recall: 0.8203\n",
            "Epoch 15/50\n",
            "Epoch 15/50\n",
            "Epoch 15/50\n",
            "20/20 [==============================] - 0s 3ms/step - loss: 0.4083 - accuracy: 0.8320 - precision: 0.8274 - recall: 0.8391\n",
            "20/20 [==============================] - 0s 3ms/step - loss: 0.4083 - accuracy: 0.8320 - precision: 0.8274 - recall: 0.8391\n",
            "20/20 [==============================] - 0s 3ms/step - loss: 0.4083 - accuracy: 0.8320 - precision: 0.8274 - recall: 0.8391\n",
            "Epoch 16/50\n",
            "Epoch 16/50\n",
            "Epoch 16/50\n",
            "20/20 [==============================] - 0s 3ms/step - loss: 0.3945 - accuracy: 0.8398 - precision: 0.8425 - recall: 0.8359\n",
            "20/20 [==============================] - 0s 3ms/step - loss: 0.3945 - accuracy: 0.8398 - precision: 0.8425 - recall: 0.8359\n",
            "20/20 [==============================] - 0s 3ms/step - loss: 0.3945 - accuracy: 0.8398 - precision: 0.8425 - recall: 0.8359\n",
            "Epoch 17/50\n",
            "Epoch 17/50\n",
            "Epoch 17/50\n",
            "20/20 [==============================] - 0s 4ms/step - loss: 0.3875 - accuracy: 0.8383 - precision: 0.8378 - recall: 0.8391\n",
            "20/20 [==============================] - 0s 4ms/step - loss: 0.3875 - accuracy: 0.8383 - precision: 0.8378 - recall: 0.8391\n",
            "20/20 [==============================] - 0s 4ms/step - loss: 0.3875 - accuracy: 0.8383 - precision: 0.8378 - recall: 0.8391\n",
            "Epoch 18/50\n",
            "Epoch 18/50\n",
            "Epoch 18/50\n",
            "20/20 [==============================] - 0s 3ms/step - loss: 0.3853 - accuracy: 0.8422 - precision: 0.8544 - recall: 0.8250\n",
            "20/20 [==============================] - 0s 3ms/step - loss: 0.3853 - accuracy: 0.8422 - precision: 0.8544 - recall: 0.8250\n",
            "20/20 [==============================] - 0s 3ms/step - loss: 0.3853 - accuracy: 0.8422 - precision: 0.8544 - recall: 0.8250\n",
            "Epoch 19/50\n",
            "Epoch 19/50\n",
            "Epoch 19/50\n",
            "20/20 [==============================] - 0s 4ms/step - loss: 0.3713 - accuracy: 0.8516 - precision: 0.8560 - recall: 0.8453\n",
            "20/20 [==============================] - 0s 4ms/step - loss: 0.3713 - accuracy: 0.8516 - precision: 0.8560 - recall: 0.8453\n",
            "20/20 [==============================] - 0s 4ms/step - loss: 0.3713 - accuracy: 0.8516 - precision: 0.8560 - recall: 0.8453\n",
            "Epoch 20/50\n",
            "Epoch 20/50\n",
            "Epoch 20/50\n",
            "20/20 [==============================] - 0s 3ms/step - loss: 0.3667 - accuracy: 0.8422 - precision: 0.8411 - recall: 0.8438\n",
            "20/20 [==============================] - 0s 3ms/step - loss: 0.3667 - accuracy: 0.8422 - precision: 0.8411 - recall: 0.8438\n",
            "20/20 [==============================] - 0s 3ms/step - loss: 0.3667 - accuracy: 0.8422 - precision: 0.8411 - recall: 0.8438\n",
            "Epoch 21/50\n",
            "Epoch 21/50\n",
            "Epoch 21/50\n",
            "20/20 [==============================] - 0s 3ms/step - loss: 0.3629 - accuracy: 0.8484 - precision: 0.8540 - recall: 0.8406\n",
            "20/20 [==============================] - 0s 3ms/step - loss: 0.3629 - accuracy: 0.8484 - precision: 0.8540 - recall: 0.8406\n",
            "20/20 [==============================] - 0s 3ms/step - loss: 0.3629 - accuracy: 0.8484 - precision: 0.8540 - recall: 0.8406\n",
            "Epoch 22/50\n",
            "Epoch 22/50\n",
            "Epoch 22/50\n",
            "20/20 [==============================] - 0s 4ms/step - loss: 0.3536 - accuracy: 0.8539 - precision: 0.8523 - recall: 0.8562\n",
            "20/20 [==============================] - 0s 4ms/step - loss: 0.3536 - accuracy: 0.8539 - precision: 0.8523 - recall: 0.8562\n",
            "20/20 [==============================] - 0s 4ms/step - loss: 0.3536 - accuracy: 0.8539 - precision: 0.8523 - recall: 0.8562\n",
            "Epoch 23/50\n",
            "Epoch 23/50\n",
            "Epoch 23/50\n",
            "20/20 [==============================] - 0s 4ms/step - loss: 0.3510 - accuracy: 0.8539 - precision: 0.8501 - recall: 0.8594\n",
            "20/20 [==============================] - 0s 4ms/step - loss: 0.3510 - accuracy: 0.8539 - precision: 0.8501 - recall: 0.8594\n",
            "20/20 [==============================] - 0s 4ms/step - loss: 0.3510 - accuracy: 0.8539 - precision: 0.8501 - recall: 0.8594\n",
            "Epoch 24/50\n",
            "Epoch 24/50\n",
            "Epoch 24/50\n",
            "20/20 [==============================] - 0s 3ms/step - loss: 0.3428 - accuracy: 0.8562 - precision: 0.8562 - recall: 0.8562\n",
            "20/20 [==============================] - 0s 3ms/step - loss: 0.3428 - accuracy: 0.8562 - precision: 0.8562 - recall: 0.8562\n",
            "20/20 [==============================] - 0s 3ms/step - loss: 0.3428 - accuracy: 0.8562 - precision: 0.8562 - recall: 0.8562\n",
            "Epoch 25/50\n",
            "Epoch 25/50\n",
            "Epoch 25/50\n",
            "20/20 [==============================] - 0s 4ms/step - loss: 0.3393 - accuracy: 0.8594 - precision: 0.8605 - recall: 0.8578\n",
            "20/20 [==============================] - 0s 4ms/step - loss: 0.3393 - accuracy: 0.8594 - precision: 0.8605 - recall: 0.8578\n",
            "20/20 [==============================] - 0s 4ms/step - loss: 0.3393 - accuracy: 0.8594 - precision: 0.8605 - recall: 0.8578\n",
            "Epoch 26/50\n",
            "Epoch 26/50\n",
            "Epoch 26/50\n",
            "20/20 [==============================] - 0s 4ms/step - loss: 0.3364 - accuracy: 0.8625 - precision: 0.8625 - recall: 0.8625\n",
            "20/20 [==============================] - 0s 4ms/step - loss: 0.3364 - accuracy: 0.8625 - precision: 0.8625 - recall: 0.8625\n",
            "20/20 [==============================] - 0s 4ms/step - loss: 0.3364 - accuracy: 0.8625 - precision: 0.8625 - recall: 0.8625\n",
            "Epoch 27/50\n",
            "Epoch 27/50\n",
            "Epoch 27/50\n",
            "20/20 [==============================] - 0s 4ms/step - loss: 0.3374 - accuracy: 0.8570 - precision: 0.8598 - recall: 0.8531\n",
            "20/20 [==============================] - 0s 4ms/step - loss: 0.3374 - accuracy: 0.8570 - precision: 0.8598 - recall: 0.8531\n",
            "20/20 [==============================] - 0s 4ms/step - loss: 0.3374 - accuracy: 0.8570 - precision: 0.8598 - recall: 0.8531\n",
            "Epoch 28/50\n",
            "Epoch 28/50\n",
            "Epoch 28/50\n",
            "20/20 [==============================] - 0s 4ms/step - loss: 0.3296 - accuracy: 0.8641 - precision: 0.8687 - recall: 0.8578\n",
            "20/20 [==============================] - 0s 4ms/step - loss: 0.3296 - accuracy: 0.8641 - precision: 0.8687 - recall: 0.8578\n",
            "20/20 [==============================] - 0s 4ms/step - loss: 0.3296 - accuracy: 0.8641 - precision: 0.8687 - recall: 0.8578\n",
            "Epoch 29/50\n",
            "Epoch 29/50\n",
            "Epoch 29/50\n",
            "20/20 [==============================] - 0s 3ms/step - loss: 0.3328 - accuracy: 0.8648 - precision: 0.8576 - recall: 0.8750\n",
            "20/20 [==============================] - 0s 3ms/step - loss: 0.3328 - accuracy: 0.8648 - precision: 0.8576 - recall: 0.8750\n",
            "20/20 [==============================] - 0s 3ms/step - loss: 0.3328 - accuracy: 0.8648 - precision: 0.8576 - recall: 0.8750\n",
            "Epoch 30/50\n",
            "Epoch 30/50\n",
            "Epoch 30/50\n",
            "20/20 [==============================] - 0s 3ms/step - loss: 0.3313 - accuracy: 0.8648 - precision: 0.8822 - recall: 0.8422\n",
            "20/20 [==============================] - 0s 3ms/step - loss: 0.3313 - accuracy: 0.8648 - precision: 0.8822 - recall: 0.8422\n",
            "20/20 [==============================] - 0s 3ms/step - loss: 0.3313 - accuracy: 0.8648 - precision: 0.8822 - recall: 0.8422\n",
            "Epoch 31/50\n",
            "Epoch 31/50\n",
            "Epoch 31/50\n",
            "20/20 [==============================] - 0s 4ms/step - loss: 0.3198 - accuracy: 0.8656 - precision: 0.8714 - recall: 0.8578\n",
            "20/20 [==============================] - 0s 4ms/step - loss: 0.3198 - accuracy: 0.8656 - precision: 0.8714 - recall: 0.8578\n",
            "20/20 [==============================] - 0s 4ms/step - loss: 0.3198 - accuracy: 0.8656 - precision: 0.8714 - recall: 0.8578\n",
            "Epoch 32/50\n",
            "Epoch 32/50\n",
            "Epoch 32/50\n",
            "20/20 [==============================] - 0s 4ms/step - loss: 0.3176 - accuracy: 0.8727 - precision: 0.8709 - recall: 0.8750\n",
            "20/20 [==============================] - 0s 4ms/step - loss: 0.3176 - accuracy: 0.8727 - precision: 0.8709 - recall: 0.8750\n",
            "20/20 [==============================] - 0s 4ms/step - loss: 0.3176 - accuracy: 0.8727 - precision: 0.8709 - recall: 0.8750\n",
            "Epoch 33/50\n",
            "Epoch 33/50\n",
            "Epoch 33/50\n",
            "20/20 [==============================] - 0s 4ms/step - loss: 0.3164 - accuracy: 0.8711 - precision: 0.8705 - recall: 0.8719\n",
            "20/20 [==============================] - 0s 4ms/step - loss: 0.3164 - accuracy: 0.8711 - precision: 0.8705 - recall: 0.8719\n",
            "20/20 [==============================] - 0s 4ms/step - loss: 0.3164 - accuracy: 0.8711 - precision: 0.8705 - recall: 0.8719\n",
            "Epoch 34/50\n",
            "Epoch 34/50\n",
            "Epoch 34/50\n",
            "20/20 [==============================] - 0s 4ms/step - loss: 0.3110 - accuracy: 0.8719 - precision: 0.8719 - recall: 0.8719\n",
            "20/20 [==============================] - 0s 4ms/step - loss: 0.3110 - accuracy: 0.8719 - precision: 0.8719 - recall: 0.8719\n",
            "20/20 [==============================] - 0s 4ms/step - loss: 0.3110 - accuracy: 0.8719 - precision: 0.8719 - recall: 0.8719\n",
            "Epoch 35/50\n",
            "Epoch 35/50\n",
            "Epoch 35/50\n",
            "20/20 [==============================] - 0s 4ms/step - loss: 0.3069 - accuracy: 0.8781 - precision: 0.8817 - recall: 0.8734\n",
            "20/20 [==============================] - 0s 4ms/step - loss: 0.3069 - accuracy: 0.8781 - precision: 0.8817 - recall: 0.8734\n",
            "20/20 [==============================] - 0s 4ms/step - loss: 0.3069 - accuracy: 0.8781 - precision: 0.8817 - recall: 0.8734\n",
            "Epoch 36/50\n",
            "Epoch 36/50\n",
            "Epoch 36/50\n",
            "20/20 [==============================] - 0s 4ms/step - loss: 0.3040 - accuracy: 0.8734 - precision: 0.8770 - recall: 0.8687\n",
            "20/20 [==============================] - 0s 4ms/step - loss: 0.3040 - accuracy: 0.8734 - precision: 0.8770 - recall: 0.8687\n",
            "20/20 [==============================] - 0s 4ms/step - loss: 0.3040 - accuracy: 0.8734 - precision: 0.8770 - recall: 0.8687\n",
            "Epoch 37/50\n",
            "Epoch 37/50\n",
            "Epoch 37/50\n",
            "20/20 [==============================] - 0s 4ms/step - loss: 0.3050 - accuracy: 0.8758 - precision: 0.8764 - recall: 0.8750\n",
            "20/20 [==============================] - 0s 4ms/step - loss: 0.3050 - accuracy: 0.8758 - precision: 0.8764 - recall: 0.8750\n",
            "20/20 [==============================] - 0s 4ms/step - loss: 0.3050 - accuracy: 0.8758 - precision: 0.8764 - recall: 0.8750\n",
            "Epoch 38/50\n",
            "Epoch 38/50\n",
            "Epoch 38/50\n",
            "20/20 [==============================] - 0s 3ms/step - loss: 0.3126 - accuracy: 0.8680 - precision: 0.8618 - recall: 0.8766\n",
            "20/20 [==============================] - 0s 3ms/step - loss: 0.3126 - accuracy: 0.8680 - precision: 0.8618 - recall: 0.8766\n",
            "20/20 [==============================] - 0s 3ms/step - loss: 0.3126 - accuracy: 0.8680 - precision: 0.8618 - recall: 0.8766\n",
            "Epoch 39/50\n",
            "Epoch 39/50\n",
            "Epoch 39/50\n",
            "20/20 [==============================] - 0s 4ms/step - loss: 0.3010 - accuracy: 0.8758 - precision: 0.8860 - recall: 0.8625\n",
            "20/20 [==============================] - 0s 4ms/step - loss: 0.3010 - accuracy: 0.8758 - precision: 0.8860 - recall: 0.8625\n",
            "20/20 [==============================] - 0s 4ms/step - loss: 0.3010 - accuracy: 0.8758 - precision: 0.8860 - recall: 0.8625\n",
            "Epoch 40/50\n",
            "Epoch 40/50\n",
            "Epoch 40/50\n",
            "20/20 [==============================] - 0s 3ms/step - loss: 0.2952 - accuracy: 0.8773 - precision: 0.8827 - recall: 0.8703\n",
            "20/20 [==============================] - 0s 3ms/step - loss: 0.2952 - accuracy: 0.8773 - precision: 0.8827 - recall: 0.8703\n",
            "20/20 [==============================] - 0s 3ms/step - loss: 0.2952 - accuracy: 0.8773 - precision: 0.8827 - recall: 0.8703\n",
            "Epoch 41/50\n",
            "Epoch 41/50\n",
            "Epoch 41/50\n",
            "20/20 [==============================] - 0s 4ms/step - loss: 0.2941 - accuracy: 0.8789 - precision: 0.8725 - recall: 0.8875\n",
            "20/20 [==============================] - 0s 4ms/step - loss: 0.2941 - accuracy: 0.8789 - precision: 0.8725 - recall: 0.8875\n",
            "20/20 [==============================] - 0s 4ms/step - loss: 0.2941 - accuracy: 0.8789 - precision: 0.8725 - recall: 0.8875\n",
            "Epoch 42/50\n",
            "Epoch 42/50\n",
            "Epoch 42/50\n",
            "20/20 [==============================] - 0s 3ms/step - loss: 0.2869 - accuracy: 0.8758 - precision: 0.8764 - recall: 0.8750\n",
            "20/20 [==============================] - 0s 3ms/step - loss: 0.2869 - accuracy: 0.8758 - precision: 0.8764 - recall: 0.8750\n",
            "20/20 [==============================] - 0s 3ms/step - loss: 0.2869 - accuracy: 0.8758 - precision: 0.8764 - recall: 0.8750\n",
            "Epoch 43/50\n",
            "Epoch 43/50\n",
            "Epoch 43/50\n",
            "20/20 [==============================] - 0s 4ms/step - loss: 0.2899 - accuracy: 0.8766 - precision: 0.8887 - recall: 0.8609\n",
            "20/20 [==============================] - 0s 4ms/step - loss: 0.2899 - accuracy: 0.8766 - precision: 0.8887 - recall: 0.8609\n",
            "20/20 [==============================] - 0s 4ms/step - loss: 0.2899 - accuracy: 0.8766 - precision: 0.8887 - recall: 0.8609\n",
            "Epoch 44/50\n",
            "Epoch 44/50\n",
            "Epoch 44/50\n",
            "20/20 [==============================] - 0s 4ms/step - loss: 0.2847 - accuracy: 0.8867 - precision: 0.8790 - recall: 0.8969\n",
            "20/20 [==============================] - 0s 4ms/step - loss: 0.2847 - accuracy: 0.8867 - precision: 0.8790 - recall: 0.8969\n",
            "20/20 [==============================] - 0s 4ms/step - loss: 0.2847 - accuracy: 0.8867 - precision: 0.8790 - recall: 0.8969\n",
            "Epoch 45/50\n",
            "Epoch 45/50\n",
            "Epoch 45/50\n",
            "20/20 [==============================] - 0s 4ms/step - loss: 0.2795 - accuracy: 0.8820 - precision: 0.8875 - recall: 0.8750\n",
            "20/20 [==============================] - 0s 4ms/step - loss: 0.2795 - accuracy: 0.8820 - precision: 0.8875 - recall: 0.8750\n",
            "20/20 [==============================] - 0s 4ms/step - loss: 0.2795 - accuracy: 0.8820 - precision: 0.8875 - recall: 0.8750\n",
            "Epoch 46/50\n",
            "Epoch 46/50\n",
            "Epoch 46/50\n",
            "20/20 [==============================] - 0s 4ms/step - loss: 0.2799 - accuracy: 0.8820 - precision: 0.8875 - recall: 0.8750\n",
            "20/20 [==============================] - 0s 4ms/step - loss: 0.2799 - accuracy: 0.8820 - precision: 0.8875 - recall: 0.8750\n",
            "20/20 [==============================] - 0s 4ms/step - loss: 0.2799 - accuracy: 0.8820 - precision: 0.8875 - recall: 0.8750\n",
            "Epoch 47/50\n",
            "Epoch 47/50\n",
            "Epoch 47/50\n",
            "20/20 [==============================] - 0s 3ms/step - loss: 0.2854 - accuracy: 0.8898 - precision: 0.8880 - recall: 0.8922\n",
            "20/20 [==============================] - 0s 3ms/step - loss: 0.2854 - accuracy: 0.8898 - precision: 0.8880 - recall: 0.8922\n",
            "20/20 [==============================] - 0s 3ms/step - loss: 0.2854 - accuracy: 0.8898 - precision: 0.8880 - recall: 0.8922\n",
            "Epoch 48/50\n",
            "Epoch 48/50\n",
            "Epoch 48/50\n",
            "20/20 [==============================] - 0s 4ms/step - loss: 0.2775 - accuracy: 0.8922 - precision: 0.8972 - recall: 0.8859\n",
            "20/20 [==============================] - 0s 4ms/step - loss: 0.2775 - accuracy: 0.8922 - precision: 0.8972 - recall: 0.8859\n",
            "20/20 [==============================] - 0s 4ms/step - loss: 0.2775 - accuracy: 0.8922 - precision: 0.8972 - recall: 0.8859\n",
            "Epoch 49/50\n",
            "Epoch 49/50\n",
            "Epoch 49/50\n",
            "20/20 [==============================] - 0s 4ms/step - loss: 0.2727 - accuracy: 0.8898 - precision: 0.9018 - recall: 0.8750\n",
            "20/20 [==============================] - 0s 4ms/step - loss: 0.2727 - accuracy: 0.8898 - precision: 0.9018 - recall: 0.8750\n",
            "20/20 [==============================] - 0s 4ms/step - loss: 0.2727 - accuracy: 0.8898 - precision: 0.9018 - recall: 0.8750\n",
            "Epoch 50/50\n",
            "Epoch 50/50\n",
            "Epoch 50/50\n",
            "20/20 [==============================] - 0s 3ms/step - loss: 0.2706 - accuracy: 0.8930 - precision: 0.8911 - recall: 0.8953\n",
            "20/20 [==============================] - 0s 3ms/step - loss: 0.2706 - accuracy: 0.8930 - precision: 0.8911 - recall: 0.8953\n",
            "20/20 [==============================] - 0s 3ms/step - loss: 0.2706 - accuracy: 0.8930 - precision: 0.8911 - recall: 0.8953\n",
            "\n",
            "Elapsed Time :  6.183144807815552 sec or  0.10305241346359253 min\n",
            "\n",
            "Elapsed Time :  6.183144807815552 sec or  0.10305241346359253 min\n",
            "\n",
            "Elapsed Time :  6.183144807815552 sec or  0.10305241346359253 min\n"
          ]
        }
      ]
    },
    {
      "cell_type": "code",
      "source": [
        "model.evaluate(X_test_embedding_squeezed, y_test.deceptive)"
      ],
      "metadata": {
        "colab": {
          "base_uri": "https://localhost:8080/"
        },
        "id": "nRAP55LjUjKu",
        "outputId": "3bca3b49-8046-40fa-dc60-911015addb38"
      },
      "execution_count": 17,
      "outputs": [
        {
          "output_type": "stream",
          "name": "stdout",
          "text": [
            "10/10 [==============================] - 0s 3ms/step - loss: 0.3940 - accuracy: 0.8281 - precision: 0.8431 - recall: 0.8062\n",
            "10/10 [==============================] - 0s 3ms/step - loss: 0.3940 - accuracy: 0.8281 - precision: 0.8431 - recall: 0.8062\n",
            "10/10 [==============================] - 0s 3ms/step - loss: 0.3940 - accuracy: 0.8281 - precision: 0.8431 - recall: 0.8062\n"
          ]
        },
        {
          "output_type": "execute_result",
          "data": {
            "text/plain": [
              "[0.3939579427242279, 0.828125, 0.843137264251709, 0.8062499761581421]"
            ]
          },
          "metadata": {},
          "execution_count": 17
        },
        {
          "output_type": "execute_result",
          "data": {
            "text/plain": [
              "[0.3939579427242279, 0.828125, 0.843137264251709, 0.8062499761581421]"
            ]
          },
          "metadata": {},
          "execution_count": 17
        },
        {
          "output_type": "execute_result",
          "data": {
            "text/plain": [
              "[0.3939579427242279, 0.828125, 0.843137264251709, 0.8062499761581421]"
            ]
          },
          "metadata": {},
          "execution_count": 17
        }
      ]
    },
    {
      "cell_type": "code",
      "source": [
        "y_predicted = model.predict(X_test_embedding_squeezed)\n",
        "y_predicted = y_predicted.flatten()"
      ],
      "metadata": {
        "id": "MQ7APJ_MUwce"
      },
      "execution_count": null,
      "outputs": []
    },
    {
      "cell_type": "code",
      "source": [
        "y_predicted = np.where(y_predicted > 0.5, 1, 0)\n",
        "y_predicted"
      ],
      "metadata": {
        "colab": {
          "base_uri": "https://localhost:8080/"
        },
        "id": "3y4qaA_oU2HP",
        "outputId": "a676316c-2766-4c70-dd3e-a0b5debfa303"
      },
      "execution_count": 19,
      "outputs": [
        {
          "output_type": "execute_result",
          "data": {
            "text/plain": [
              "array([0, 1, 1, 1, 1, 0, 0, 0, 1, 0, 1, 1, 1, 0, 0, 1, 1, 1, 0, 0, 0, 1,\n",
              "       1, 1, 0, 0, 0, 1, 0, 0, 1, 0, 1, 1, 1, 1, 0, 1, 0, 0, 1, 1, 1, 0,\n",
              "       0, 1, 0, 1, 1, 1, 0, 0, 1, 1, 1, 1, 1, 0, 1, 1, 0, 0, 0, 0, 0, 0,\n",
              "       1, 0, 0, 1, 1, 1, 0, 1, 0, 0, 1, 0, 0, 0, 0, 1, 1, 0, 1, 0, 0, 0,\n",
              "       0, 0, 1, 1, 1, 0, 0, 0, 1, 1, 0, 0, 1, 1, 0, 1, 1, 0, 0, 1, 0, 1,\n",
              "       0, 1, 0, 1, 0, 0, 1, 0, 1, 1, 1, 1, 0, 1, 1, 1, 0, 0, 1, 1, 0, 0,\n",
              "       1, 0, 0, 1, 0, 1, 1, 0, 1, 0, 0, 0, 0, 1, 1, 0, 1, 1, 0, 0, 0, 0,\n",
              "       0, 0, 0, 1, 0, 0, 0, 1, 0, 1, 1, 0, 0, 1, 1, 1, 0, 0, 0, 0, 0, 0,\n",
              "       0, 1, 1, 0, 1, 1, 1, 1, 0, 0, 1, 1, 1, 0, 0, 1, 1, 1, 0, 0, 0, 0,\n",
              "       0, 1, 0, 1, 0, 1, 0, 0, 1, 1, 1, 1, 0, 0, 0, 0, 1, 1, 0, 1, 1, 0,\n",
              "       0, 1, 0, 0, 1, 1, 0, 0, 1, 0, 0, 0, 0, 0, 1, 0, 0, 0, 1, 0, 0, 0,\n",
              "       1, 1, 1, 1, 1, 0, 1, 0, 0, 1, 0, 0, 0, 1, 0, 1, 1, 1, 0, 1, 1, 1,\n",
              "       0, 1, 1, 0, 1, 1, 0, 0, 1, 0, 0, 1, 0, 1, 1, 1, 1, 0, 0, 1, 0, 0,\n",
              "       0, 0, 0, 0, 0, 0, 0, 0, 1, 1, 1, 1, 0, 1, 1, 1, 0, 0, 0, 0, 0, 1,\n",
              "       0, 1, 1, 0, 1, 1, 0, 1, 1, 0, 1, 1])"
            ]
          },
          "metadata": {},
          "execution_count": 19
        },
        {
          "output_type": "execute_result",
          "data": {
            "text/plain": [
              "array([0, 1, 1, 1, 1, 0, 0, 0, 1, 0, 1, 1, 1, 0, 0, 1, 1, 1, 0, 0, 0, 1,\n",
              "       1, 1, 0, 0, 0, 1, 0, 0, 1, 0, 1, 1, 1, 1, 0, 1, 0, 0, 1, 1, 1, 0,\n",
              "       0, 1, 0, 1, 1, 1, 0, 0, 1, 1, 1, 1, 1, 0, 1, 1, 0, 0, 0, 0, 0, 0,\n",
              "       1, 0, 0, 1, 1, 1, 0, 1, 0, 0, 1, 0, 0, 0, 0, 1, 1, 0, 1, 0, 0, 0,\n",
              "       0, 0, 1, 1, 1, 0, 0, 0, 1, 1, 0, 0, 1, 1, 0, 1, 1, 0, 0, 1, 0, 1,\n",
              "       0, 1, 0, 1, 0, 0, 1, 0, 1, 1, 1, 1, 0, 1, 1, 1, 0, 0, 1, 1, 0, 0,\n",
              "       1, 0, 0, 1, 0, 1, 1, 0, 1, 0, 0, 0, 0, 1, 1, 0, 1, 1, 0, 0, 0, 0,\n",
              "       0, 0, 0, 1, 0, 0, 0, 1, 0, 1, 1, 0, 0, 1, 1, 1, 0, 0, 0, 0, 0, 0,\n",
              "       0, 1, 1, 0, 1, 1, 1, 1, 0, 0, 1, 1, 1, 0, 0, 1, 1, 1, 0, 0, 0, 0,\n",
              "       0, 1, 0, 1, 0, 1, 0, 0, 1, 1, 1, 1, 0, 0, 0, 0, 1, 1, 0, 1, 1, 0,\n",
              "       0, 1, 0, 0, 1, 1, 0, 0, 1, 0, 0, 0, 0, 0, 1, 0, 0, 0, 1, 0, 0, 0,\n",
              "       1, 1, 1, 1, 1, 0, 1, 0, 0, 1, 0, 0, 0, 1, 0, 1, 1, 1, 0, 1, 1, 1,\n",
              "       0, 1, 1, 0, 1, 1, 0, 0, 1, 0, 0, 1, 0, 1, 1, 1, 1, 0, 0, 1, 0, 0,\n",
              "       0, 0, 0, 0, 0, 0, 0, 0, 1, 1, 1, 1, 0, 1, 1, 1, 0, 0, 0, 0, 0, 1,\n",
              "       0, 1, 1, 0, 1, 1, 0, 1, 1, 0, 1, 1])"
            ]
          },
          "metadata": {},
          "execution_count": 19
        },
        {
          "output_type": "execute_result",
          "data": {
            "text/plain": [
              "array([0, 1, 1, 1, 1, 0, 0, 0, 1, 0, 1, 1, 1, 0, 0, 1, 1, 1, 0, 0, 0, 1,\n",
              "       1, 1, 0, 0, 0, 1, 0, 0, 1, 0, 1, 1, 1, 1, 0, 1, 0, 0, 1, 1, 1, 0,\n",
              "       0, 1, 0, 1, 1, 1, 0, 0, 1, 1, 1, 1, 1, 0, 1, 1, 0, 0, 0, 0, 0, 0,\n",
              "       1, 0, 0, 1, 1, 1, 0, 1, 0, 0, 1, 0, 0, 0, 0, 1, 1, 0, 1, 0, 0, 0,\n",
              "       0, 0, 1, 1, 1, 0, 0, 0, 1, 1, 0, 0, 1, 1, 0, 1, 1, 0, 0, 1, 0, 1,\n",
              "       0, 1, 0, 1, 0, 0, 1, 0, 1, 1, 1, 1, 0, 1, 1, 1, 0, 0, 1, 1, 0, 0,\n",
              "       1, 0, 0, 1, 0, 1, 1, 0, 1, 0, 0, 0, 0, 1, 1, 0, 1, 1, 0, 0, 0, 0,\n",
              "       0, 0, 0, 1, 0, 0, 0, 1, 0, 1, 1, 0, 0, 1, 1, 1, 0, 0, 0, 0, 0, 0,\n",
              "       0, 1, 1, 0, 1, 1, 1, 1, 0, 0, 1, 1, 1, 0, 0, 1, 1, 1, 0, 0, 0, 0,\n",
              "       0, 1, 0, 1, 0, 1, 0, 0, 1, 1, 1, 1, 0, 0, 0, 0, 1, 1, 0, 1, 1, 0,\n",
              "       0, 1, 0, 0, 1, 1, 0, 0, 1, 0, 0, 0, 0, 0, 1, 0, 0, 0, 1, 0, 0, 0,\n",
              "       1, 1, 1, 1, 1, 0, 1, 0, 0, 1, 0, 0, 0, 1, 0, 1, 1, 1, 0, 1, 1, 1,\n",
              "       0, 1, 1, 0, 1, 1, 0, 0, 1, 0, 0, 1, 0, 1, 1, 1, 1, 0, 0, 1, 0, 0,\n",
              "       0, 0, 0, 0, 0, 0, 0, 0, 1, 1, 1, 1, 0, 1, 1, 1, 0, 0, 0, 0, 0, 1,\n",
              "       0, 1, 1, 0, 1, 1, 0, 1, 1, 0, 1, 1])"
            ]
          },
          "metadata": {},
          "execution_count": 19
        }
      ]
    },
    {
      "cell_type": "code",
      "source": [
        "from sklearn.metrics import confusion_matrix, classification_report\n",
        "\n",
        "cm = confusion_matrix(y_test.deceptive, y_predicted)\n",
        "cm"
      ],
      "metadata": {
        "colab": {
          "base_uri": "https://localhost:8080/"
        },
        "id": "toywSOZpVAlv",
        "outputId": "5289ab27-1889-4903-b2a4-5a18d2d4b226"
      },
      "execution_count": 20,
      "outputs": [
        {
          "output_type": "execute_result",
          "data": {
            "text/plain": [
              "array([[136,  24],\n",
              "       [ 31, 129]])"
            ]
          },
          "metadata": {},
          "execution_count": 20
        },
        {
          "output_type": "execute_result",
          "data": {
            "text/plain": [
              "array([[136,  24],\n",
              "       [ 31, 129]])"
            ]
          },
          "metadata": {},
          "execution_count": 20
        },
        {
          "output_type": "execute_result",
          "data": {
            "text/plain": [
              "array([[136,  24],\n",
              "       [ 31, 129]])"
            ]
          },
          "metadata": {},
          "execution_count": 20
        }
      ]
    },
    {
      "cell_type": "code",
      "source": [
        "from matplotlib import pyplot as plt\n",
        "import seaborn as sn\n",
        "sn.heatmap(cm, annot=True, fmt='d')\n",
        "plt.xlabel('Predicted')\n",
        "plt.ylabel('Truth')"
      ],
      "metadata": {
        "colab": {
          "base_uri": "https://localhost:8080/",
          "height": 1000
        },
        "id": "e16_5gXsVE9C",
        "outputId": "db299a1f-c88c-4875-d2d1-8ded7c007d8c"
      },
      "execution_count": 21,
      "outputs": [
        {
          "output_type": "execute_result",
          "data": {
            "text/plain": [
              "Text(50.722222222222214, 0.5, 'Truth')"
            ]
          },
          "metadata": {},
          "execution_count": 21
        },
        {
          "output_type": "execute_result",
          "data": {
            "text/plain": [
              "Text(50.722222222222214, 0.5, 'Truth')"
            ]
          },
          "metadata": {},
          "execution_count": 21
        },
        {
          "output_type": "display_data",
          "data": {
            "text/plain": [
              "<Figure size 640x480 with 2 Axes>"
            ],
            "image/png": "[encoded data removed]"
          },
          "metadata": {}
        },
        {
          "output_type": "display_data",
          "data": {
            "text/plain": [
              "<Figure size 640x480 with 2 Axes>"
            ],
            "image/png": "[encoded data removed]"
          },
          "metadata": {}
        },
        {
          "output_type": "execute_result",
          "data": {
            "text/plain": [
              "Text(50.722222222222214, 0.5, 'Truth')"
            ]
          },
          "metadata": {},
          "execution_count": 21
        },
        {
          "output_type": "display_data",
          "data": {
            "text/plain": [
              "<Figure size 640x480 with 2 Axes>"
            ],
            "image/png": "[encoded data removed]"
          },
          "metadata": {}
        }
      ]
    },
    {
      "cell_type": "code",
      "source": [
        "print(classification_report(y_test.deceptive, y_predicted))"
      ],
      "metadata": {
        "colab": {
          "base_uri": "https://localhost:8080/"
        },
        "id": "rmSmwdn4VKPs",
        "outputId": "8a3985a7-21d1-4f46-9c05-a0836659b477"
      },
      "execution_count": null,
      "outputs": [
        {
          "metadata": {
            "tags": null
          },
          "name": "stdout",
          "output_type": "stream",
          "text": [
            "              precision    recall  f1-score   support\n",
            "\n",
            "           0       0.81      0.85      0.83       160\n",
            "           1       0.84      0.81      0.82       160\n",
            "\n",
            "    accuracy                           0.83       320\n",
            "   macro avg       0.83      0.83      0.83       320\n",
            "weighted avg       0.83      0.83      0.83       320\n",
            "\n"
          ]
        }
      ]
    }
  ]
}